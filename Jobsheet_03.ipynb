{
  "nbformat": 4,
  "nbformat_minor": 0,
  "metadata": {
    "colab": {
      "provenance": [],
      "authorship_tag": "ABX9TyNGWvSHNWd1c0Et0mz5XWYr",
      "include_colab_link": true
    },
    "kernelspec": {
      "name": "python3",
      "display_name": "Python 3"
    },
    "language_info": {
      "name": "python"
    }
  },
  "cells": [
    {
      "cell_type": "markdown",
      "metadata": {
        "id": "view-in-github",
        "colab_type": "text"
      },
      "source": [
        "<a href=\"https://colab.research.google.com/github/Baimiyk/2025_PBO_TI1C/blob/main/Jobsheet_03.ipynb\" target=\"_parent\"><img src=\"https://colab.research.google.com/assets/colab-badge.svg\" alt=\"Open In Colab\"/></a>"
      ]
    },
    {
      "cell_type": "markdown",
      "source": [
        "# Praktikum 1\n",
        "Enkapsulasi pada kelas Bank Account"
      ],
      "metadata": {
        "id": "C8KkIERiNOeH"
      }
    },
    {
      "cell_type": "code",
      "source": [],
      "metadata": {
        "id": "Z42xdhd6NxE0"
      },
      "execution_count": null,
      "outputs": []
    },
    {
      "cell_type": "markdown",
      "source": [
        "# Praktikum 2\n",
        "Enkapsulasi pada kelas Employee"
      ],
      "metadata": {
        "id": "fwOvsPFMNWnE"
      }
    },
    {
      "cell_type": "code",
      "source": [],
      "metadata": {
        "id": "U63vA8sJNzJT"
      },
      "execution_count": null,
      "outputs": []
    },
    {
      "cell_type": "markdown",
      "source": [
        "# Praktikum 3\n",
        "Konstruktor dan Destruktor Sederhana"
      ],
      "metadata": {
        "id": "x8jWYsnCNoHg"
      }
    },
    {
      "cell_type": "code",
      "source": [],
      "metadata": {
        "id": "FTT8je0Sibnt"
      },
      "execution_count": null,
      "outputs": []
    },
    {
      "cell_type": "code",
      "source": [],
      "metadata": {
        "id": "Ra4MtJHPOF5g"
      },
      "execution_count": null,
      "outputs": []
    },
    {
      "cell_type": "markdown",
      "source": [
        "# Praktikum 4\n",
        "Kontrukstor dan Destruktor program FileLogger"
      ],
      "metadata": {
        "id": "3pHm_fw-N6_6"
      }
    },
    {
      "cell_type": "code",
      "source": [],
      "metadata": {
        "id": "wqpymwicN0hx"
      },
      "execution_count": null,
      "outputs": []
    },
    {
      "cell_type": "markdown",
      "source": [
        "# Praktikum 5\n",
        "Properti \"self\" pada kelas"
      ],
      "metadata": {
        "id": "tP0dQEP_iero"
      }
    },
    {
      "cell_type": "code",
      "source": [],
      "metadata": {
        "id": "fJQXjfSej3BR"
      },
      "execution_count": null,
      "outputs": []
    },
    {
      "cell_type": "markdown",
      "source": [
        "# Praktikum 6\n",
        "Menggunakan getter, setter, dan dekorator @property untuk mengelola akses atribut"
      ],
      "metadata": {
        "id": "NALAgihUj3Oe"
      }
    },
    {
      "cell_type": "code",
      "source": [],
      "metadata": {
        "id": "eLa1DRuSmck0"
      },
      "execution_count": null,
      "outputs": []
    },
    {
      "cell_type": "markdown",
      "source": [
        "# Penugasan"
      ],
      "metadata": {
        "id": "1GPC2AjomZtZ"
      }
    }
  ]
}