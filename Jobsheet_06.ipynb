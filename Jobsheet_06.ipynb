{
  "nbformat": 4,
  "nbformat_minor": 0,
  "metadata": {
    "colab": {
      "provenance": [],
      "authorship_tag": "ABX9TyOgmJw7xDzlBtGhaLXlQagV",
      "include_colab_link": true
    },
    "kernelspec": {
      "name": "python3",
      "display_name": "Python 3"
    },
    "language_info": {
      "name": "python"
    }
  },
  "cells": [
    {
      "cell_type": "markdown",
      "metadata": {
        "id": "view-in-github",
        "colab_type": "text"
      },
      "source": [
        "<a href=\"https://colab.research.google.com/github/Baimiyk/2025_PBO_TI1C/blob/main/Jobsheet_06.ipynb\" target=\"_parent\"><img src=\"https://colab.research.google.com/assets/colab-badge.svg\" alt=\"Open In Colab\"/></a>"
      ]
    },
    {
      "cell_type": "markdown",
      "source": [
        "# Praktikum 01"
      ],
      "metadata": {
        "id": "lFF70oCe3ler"
      }
    },
    {
      "cell_type": "code",
      "execution_count": 11,
      "metadata": {
        "id": "w5nnd7J_3Ri2",
        "outputId": "1bc15a65-b8cf-4902-e280-b3b3a545c5f4",
        "colab": {
          "base_uri": "https://localhost:8080/"
        }
      },
      "outputs": [
        {
          "output_type": "stream",
          "name": "stdout",
          "text": [
            "Definisi Kelas Abstrack 'KendaraanAbstract' selesai.\n",
            "\n",
            "COntoh definisi anak 'Mobil' selesai.\n",
            "Inisialisasi KendaraanAbstrack dengan merk: Toyota\n",
            "Merk kendaraan ini adalah Toyota.\n",
            "Mesin mobil Toyota dinyalakan.\n",
            "Mesin mobil Toyota dimatikan.\n"
          ]
        }
      ],
      "source": [
        "from abc import ABC, abstractmethod\n",
        "\n",
        "class KendaraanAbstrack(ABC) :\n",
        "\n",
        "  def __init__(self, merk) :\n",
        "    self.merk = merk\n",
        "    print(f\"Inisialisasi KendaraanAbstrack dengan merk: {self.merk}\")\n",
        "\n",
        "  def info_merk(self) :\n",
        "    print(f\"Merk kendaraan ini adalah {self.merk}.\")\n",
        "\n",
        "\n",
        "  @abstractmethod\n",
        "  def start_mesin(self):\n",
        "    print(f\"Mesin mobil {self.merk} dinyalakan.\")\n",
        "\n",
        "  def stop_mesin(self) :\n",
        "    print(f\"Mesin mobil {self.merk} dimatikan.\")\n",
        "\n",
        "# --- Kode Utama ---\n",
        "\n",
        "if __name__ == \"__main__\":\n",
        "  print(\"Definisi Kelas Abstrack 'KendaraanAbstract' selesai.\")\n",
        "\n",
        "  class Mobil(KendaraanAbstrack):\n",
        "    def start_mesin(self):\n",
        "      print(f\"Mesin mobil {self.merk} dinyalakan.\")\n",
        "\n",
        "    def stop_mesin(self):\n",
        "      print(f\"Mesin mobil {self.merk} dimatikan.\")\n",
        "\n",
        "  print(\"\\nCOntoh definisi anak 'Mobil' selesai.\")\n",
        "\n",
        "  mobil_contoh = Mobil(\"Toyota\")\n",
        "  mobil_contoh.info_merk()\n",
        "  mobil_contoh.start_mesin()\n",
        "  mobil_contoh.stop_mesin()"
      ]
    },
    {
      "cell_type": "markdown",
      "source": [
        "# Praktikum 02"
      ],
      "metadata": {
        "id": "LW484aqc3nzt"
      }
    },
    {
      "cell_type": "code",
      "source": [
        "from abc import ABC, abstractmethod\n",
        "\n",
        "class MediaAbstrak(ABC) :\n",
        "  def __init__(self, judul) :\n",
        "    self.judul = judul\n",
        "    print(f\"Inisialisasi MediaAbstrak dengan judul: {self.judul}\")\n",
        "\n",
        "  @abstractmethod\n",
        "  def play(self):\n",
        "    pass\n",
        "\n",
        "  @abstractmethod\n",
        "  def stop(self):\n",
        "    pass\n",
        "\n",
        "# --- Kode Utama ---\n",
        "\n",
        "if __name__ == \"__main__\":\n",
        "  print(\"Mencoba membuat objek dari kelas abstrak MediaAbstrak.....\")\n",
        "\n",
        "  try:\n",
        "    media = MediaAbstrak(\"Konten Abstrack\")\n",
        "\n",
        "    print(\"Objek berhasi dibuat (SEHARUSNYA TIDAK TERJDAI).\")\n",
        "    media.play()\n",
        "\n",
        "  except TypeError as e:\n",
        "    print(f\"\\nGAGAL membuat objek!\")\n",
        "    print(f\"Error yang munvul (sesuai harapan): {e}\")\n",
        "    print(f\"\\nIni membuktikan bahwa kelas abstrak tidak bisa diinstansi\")\n",
        "    print(\"jika masih memiliki metode abstrak yang belum diimplementasikan.\")"
      ],
      "metadata": {
        "id": "dZg7FHYS3s85",
        "outputId": "3c73833e-d5e1-43b2-8059-6232c44091ed",
        "colab": {
          "base_uri": "https://localhost:8080/"
        }
      },
      "execution_count": 12,
      "outputs": [
        {
          "output_type": "stream",
          "name": "stdout",
          "text": [
            "Mencoba membuat objek dari kelas abstrak MediaAbstrak.....\n",
            "\n",
            "GAGAL membuat objek!\n",
            "Error yang munvul (sesuai harapan): Can't instantiate abstract class MediaAbstrak with abstract methods play, stop\n",
            "\n",
            "Ini membuktikan bahwa kelas abstrak tidak bisa diinstansi\n",
            "jika masih memiliki metode abstrak yang belum diimplementasikan.\n"
          ]
        }
      ]
    },
    {
      "cell_type": "markdown",
      "source": [
        "# Praktikum 03"
      ],
      "metadata": {
        "id": "AdXgpr373tfI"
      }
    },
    {
      "cell_type": "code",
      "source": [
        "from abc import ABC, abstractmethod\n",
        "import locale\n",
        "import random\n",
        "\n",
        "try:\n",
        "  locale.setlocale(locale.LC_ALL, 'id_ID.UTF-8')\n",
        "except locale.Error:\n",
        "  print(\"Locale id_ID.UTF-8 tidak tersedia, gunakan locale default.\")\n",
        "\n",
        "def format_rupiah(angka):\n",
        "   try:\n",
        "        # Coba format menggunakan locale jika tersedia\n",
        "        formatted = locale.currency(angka, grouping=True, symbol='Rp ')\n",
        "        return formatted\n",
        "   except Exception:\n",
        "        # Jika gagal (misalnya locale tidak diset atau tidak tersedia), fallback manual\n",
        "        return f\"Rp {angka:,.0f}\".replace(',', '.')\n",
        "\n",
        "class AlatPembayaranAbstrak(ABC):\n",
        "  def __init__(self, nama_metode):\n",
        "    self.nama_metode = nama_metode\n",
        "    print(f\"Inisialisasi alat pembayaran: {self.nama_metode}\")\n",
        "\n",
        "  def info(self):\n",
        "    print(f\"Metode Pembayaran: {self.nama_metode}\")\n",
        "\n",
        "  @abstractmethod\n",
        "  def proses_pembayaran(self, jumlah):\n",
        "    pass\n",
        "\n",
        "class KartuKredit(AlatPembayaranAbstrak):\n",
        "  def __init__(self, nama_pemilik, nomor_kartu):\n",
        "    super().__init__(\"Kartu Kredit\")\n",
        "    self.nomor_kartu = nomor_kartu[-4:]\n",
        "    self.nama_pemilik = nama_pemilik\n",
        "    print(f\"   -> Kartu Kredit ************{self.nomor_kartu}({self.nama_pemilik}) siap.\")\n",
        "\n",
        "  def proses_pembayaran(self, jumlah):\n",
        "    print(f\"  Memproses pembayaran {format_rupiah(jumlah)} via Kartu Kredit ************{self.nomor_kartu}....\")\n",
        "    berhasil = random.choice([True, False])\n",
        "    if berhasil:\n",
        "      print(\"  Pembayaran Kartu Kredit Berhasil.\")\n",
        "      return True\n",
        "    else:\n",
        "      print(\"  Pembayaran Kartu Kredit Gagal (Limit tidak cukup/Error).\")\n",
        "      return False\n",
        "\n",
        "class DompetDigital(AlatPembayaranAbstrak):\n",
        "  def __init__(self, nomor_telepon, nama_provider):\n",
        "    super().__init__(f\"Dompet Digital ({nama_provider})\")\n",
        "    self.nomor_telepon = nomor_telepon\n",
        "    self.saldo = random.randint(50000, 500000)\n",
        "    print(f\"   -> Dompet Digital {self.nomor_telepon} siap (saldo: {format_rupiah(self.saldo)}).\")\n",
        "\n",
        "  def proses_pembayaran(self, jumlah):\n",
        "    print(f\"  Memproses pembayaran {format_rupiah(jumlah)} via Dompet Digital {self.nomor_telepon}....\")\n",
        "    if jumlah <= self.saldo:\n",
        "      self.saldo -= jumlah\n",
        "      print(\"  Pembayaran Dompet Digital Berhasil.\")\n",
        "      print(f\"  Saldo Tersisa: {format_rupiah(self.saldo)}.\")\n",
        "      return True\n",
        "\n",
        "    else:\n",
        "      print(\"  Pembayaran Dompet Digital Gagal (Saldo tidak mencukupi).\")\n",
        "      print(f\"  Saldo saat ini: {format_rupiah(self.saldo)}\")\n",
        "      return False\n",
        "\n",
        "\n",
        "# --- Kode Utama ---\n",
        "if __name__ == \"__main__\":\n",
        "  print(\"\\nMembuat Objek Alat Pembayaran....\")\n",
        "  kartu_bca = KartuKredit(\"1234-5678-9012-3456\", \"Budi Cahyono\")\n",
        "  gopay = DompetDigital(\"081234567890\", \"GoPay\")\n",
        "\n",
        "  print(\"\\nMelakukan Pembayaran: \")\n",
        "  print(\"\\nMencoba bayar dengan Kartu Kredit: \")\n",
        "  kartu_bca.info()\n",
        "  status_kk = kartu_bca.proses_pembayaran(150000)\n",
        "  print(f\"Status Transaksi KK: {'Sukses' if status_kk else 'Gagal'}\")\n",
        "\n",
        "  print(\"\\nMencoba bayar dengan GoPay (Jumlah Kecil):\")\n",
        "  gopay.info()\n",
        "  status_gopay1 = gopay.proses_pembayaran(75000)\n",
        "  print(f\"Status Transaksi GoPay: {'Sukses' if status_gopay1 else 'Gagal'}\")\n",
        "\n",
        "  print(\"\\nMencoba bayar dengan GoPay (Jumlah Besar):\")\n",
        "  gopay.info()\n",
        "  status_gopay2 = gopay.proses_pembayaran(1000000)\n",
        "  print(f\"  Status Transaksi Gopay 2: {'Sukses' if status_gopay2 else 'Gagal'}\")"
      ],
      "metadata": {
        "id": "_hPlP2uI3vfy",
        "colab": {
          "base_uri": "https://localhost:8080/"
        },
        "outputId": "09cb8617-a955-4f55-ed7d-7d6965203832"
      },
      "execution_count": 13,
      "outputs": [
        {
          "output_type": "stream",
          "name": "stdout",
          "text": [
            "Locale id_ID.UTF-8 tidak tersedia, gunakan locale default.\n",
            "\n",
            "Membuat Objek Alat Pembayaran....\n",
            "Inisialisasi alat pembayaran: Kartu Kredit\n",
            "   -> Kartu Kredit ************yono(1234-5678-9012-3456) siap.\n",
            "Inisialisasi alat pembayaran: Dompet Digital (GoPay)\n",
            "   -> Dompet Digital 081234567890 siap (saldo: Rp 374.378).\n",
            "\n",
            "Melakukan Pembayaran: \n",
            "\n",
            "Mencoba bayar dengan Kartu Kredit: \n",
            "Metode Pembayaran: Kartu Kredit\n",
            "  Memproses pembayaran Rp 150.000 via Kartu Kredit ************yono....\n",
            "  Pembayaran Kartu Kredit Berhasil.\n",
            "Status Transaksi KK: Sukses\n",
            "\n",
            "Mencoba bayar dengan GoPay (Jumlah Kecil):\n",
            "Metode Pembayaran: Dompet Digital (GoPay)\n",
            "  Memproses pembayaran Rp 75.000 via Dompet Digital 081234567890....\n",
            "  Pembayaran Dompet Digital Berhasil.\n",
            "  Saldo Tersisa: Rp 299.378.\n",
            "Status Transaksi GoPay: Sukses\n",
            "\n",
            "Mencoba bayar dengan GoPay (Jumlah Besar):\n",
            "Metode Pembayaran: Dompet Digital (GoPay)\n",
            "  Memproses pembayaran Rp 1.000.000 via Dompet Digital 081234567890....\n",
            "  Pembayaran Dompet Digital Gagal (Saldo tidak mencukupi).\n",
            "  Saldo saat ini: Rp 299.378\n",
            "  Status Transaksi Gopay 2: Gagal\n"
          ]
        }
      ]
    },
    {
      "cell_type": "markdown",
      "source": [
        "# Praktkum 04"
      ],
      "metadata": {
        "id": "zPI6IzD-3vs1"
      }
    },
    {
      "cell_type": "code",
      "source": [
        "from abc import ABC, abstractmethod\n",
        "import time\n",
        "\n",
        "class DokumenAbstrak(ABC):\n",
        "  def __init__(self, nama_file):\n",
        "    self.nama_file = nama_file\n",
        "    print(f\"Inisialisasi Dokumen: {self.nama_file}\")\n",
        "\n",
        "  def info_file(self):\n",
        "    print(f\"Nama File: {self.nama_file}\")\n",
        "\n",
        "  @abstractmethod\n",
        "  def cetak(self):\n",
        "    pass\n",
        "\n",
        "class DokumenTeks(DokumenAbstrak):\n",
        "  def __init__(self, nama_file, isi_teks):\n",
        "    super().__init__(nama_file)\n",
        "    self.isi_teks = isi_teks\n",
        "    print(\"  -> TIpe: Dokumen Teks\")\n",
        "\n",
        "  def cetak(self):\n",
        "    print(f\"Mencetak Dokumen Teks '{self.nama_file}': \")\n",
        "    print(\"=\"*15)\n",
        "    print(self.isi_teks)\n",
        "    print(\"=\"*15)\n",
        "\n",
        "  def simpan(self):\n",
        "    print(f\"Menyimpan Dokumen Teks '{self.nama_file}' ke disk...\")\n",
        "    time.sleep(0.2)\n",
        "    print(\"  -> Berhasil disimpan.\")\n",
        "\n",
        "class Spreadsheet(DokumenAbstrak):\n",
        "  def __init__(self, nama_file, jumlah_baris, jumlah_kolom):\n",
        "    super().__init__(nama_file)\n",
        "    self.baris = jumlah_baris\n",
        "    self.kolom = jumlah_kolom\n",
        "    print(\"  -> Tipe: Spreadsheet\")\n",
        "\n",
        "  def cetak(self):\n",
        "    print(f\"Mencetak Spreadsheet '{self.nama_file}' ({self.baris}x{self.kolom})...\")\n",
        "    print(\"  (Menampilkan pratinjau...)\")\n",
        "\n",
        "  def simpan(self):\n",
        "    print(f\"Menyimpan Spreadsheet '{self.nama_file}' ke format .xlsx...\")\n",
        "    time.sleep(0.3)\n",
        "    print(\"  -> Berhasil disimpan.\")\n",
        "\n",
        "\n",
        "def proses_dokumen(daftar_dokumen):\n",
        "  print(\"\\n====== MEMPROSES SEMUA DOKUMEN ======\")\n",
        "  for doc in daftar_dokumen:\n",
        "    print(f\"\\n--- Memproses {type(doc).__name__}: {doc.nama_file} ---\")\n",
        "\n",
        "    try:\n",
        "      doc.cetak()\n",
        "      doc.simpan()\n",
        "    except Exception as e:\n",
        "      print(f\"  Error saat memproses {doc.nama_file}: {e}\")\n",
        "\n",
        "  print(\"\\n====== SELESAI MEMPROSES DOKUMEN ======\")\n",
        "\n",
        "# --- Kode utama ---\n",
        "if __name__ == \"__main__\":\n",
        "  print(\"Membuat dokumen...\")\n",
        "  dok1 = DokumenTeks(\"laporan.txt\", \"Ini adalah isi laporan singkat.\")\n",
        "  dok2 = Spreadsheet(\"data_Penjualan.xlsx\", 200, 15)\n",
        "  dok3 = DokumenTeks(\"Catatan_rapat.txt\", \"Poin penting:\\n- Bahas budget\\n- Tentukan timeline\")\n",
        "\n",
        "  koleksi_dokumen = [dok1, dok2 ,dok3]\n",
        "\n",
        "  proses_dokumen(koleksi_dokumen)"
      ],
      "metadata": {
        "id": "y5mAmA6b3yxo",
        "outputId": "f062bac1-5e16-40f5-80d7-3f7117c9b035",
        "colab": {
          "base_uri": "https://localhost:8080/"
        }
      },
      "execution_count": 14,
      "outputs": [
        {
          "output_type": "stream",
          "name": "stdout",
          "text": [
            "Membuat dokumen...\n",
            "Inisialisasi Dokumen: laporan.txt\n",
            "  -> TIpe: Dokumen Teks\n",
            "Inisialisasi Dokumen: data_Penjualan.xlsx\n",
            "  -> Tipe: Spreadsheet\n",
            "Inisialisasi Dokumen: Catatan_rapat.txt\n",
            "  -> TIpe: Dokumen Teks\n",
            "\n",
            "====== MEMPROSES SEMUA DOKUMEN ======\n",
            "\n",
            "--- Memproses DokumenTeks: laporan.txt ---\n",
            "Mencetak Dokumen Teks 'laporan.txt': \n",
            "===============\n",
            "Ini adalah isi laporan singkat.\n",
            "===============\n",
            "Menyimpan Dokumen Teks 'laporan.txt' ke disk...\n",
            "  -> Berhasil disimpan.\n",
            "\n",
            "--- Memproses Spreadsheet: data_Penjualan.xlsx ---\n",
            "Mencetak Spreadsheet 'data_Penjualan.xlsx' (200x15)...\n",
            "  (Menampilkan pratinjau...)\n",
            "Menyimpan Spreadsheet 'data_Penjualan.xlsx' ke format .xlsx...\n",
            "  -> Berhasil disimpan.\n",
            "\n",
            "--- Memproses DokumenTeks: Catatan_rapat.txt ---\n",
            "Mencetak Dokumen Teks 'Catatan_rapat.txt': \n",
            "===============\n",
            "Poin penting:\n",
            "- Bahas budget\n",
            "- Tentukan timeline\n",
            "===============\n",
            "Menyimpan Dokumen Teks 'Catatan_rapat.txt' ke disk...\n",
            "  -> Berhasil disimpan.\n",
            "\n",
            "====== SELESAI MEMPROSES DOKUMEN ======\n"
          ]
        }
      ]
    },
    {
      "cell_type": "markdown",
      "source": [
        "# Praktikum 05"
      ],
      "metadata": {
        "id": "5eXPNp-k36gw"
      }
    },
    {
      "cell_type": "code",
      "source": [
        "from abc import ABC, abstractmethod\n",
        "import math\n",
        "\n",
        "class BangunDatarAbstrak(ABC):\n",
        "  def __init__(self, nama):\n",
        "    self._nama = nama\n",
        "    print(f\"Inisialisasi BangunDatarAbstrak: {self.nama}\")\n",
        "\n",
        "  @property\n",
        "  def nama(self):\n",
        "    return self._nama\n",
        "\n",
        "  def info_lengkap(self):\n",
        "    print(f\"\\n--- Info Lengkap: {self.nama} ---\")\n",
        "    try:\n",
        "      luas = self.hitung_luas()\n",
        "      print(f\"  Luas   : {luas: 2f}\")\n",
        "    except NotImplementedError:\n",
        "      print(\"  Luas   : Belum Diimplementasikan.\")\n",
        "    except Exception as e:\n",
        "      print(f\"  Luas   : Error ({e})\")\n",
        "\n",
        "    try:\n",
        "      keliling = self.hitung_keliling()\n",
        "      print(f\"  Keliling   : {keliling: 2f}\")\n",
        "    except NotImplementedError:\n",
        "      print(\"  Keliling   : Belum Diimplementasikan.\")\n",
        "    except Exception as e:\n",
        "      print(f\"  Keliling   : Error ({e})\")\n",
        "    print(\"-\" * (len(self.nama) + 18))\n",
        "\n",
        "\n",
        "  @abstractmethod\n",
        "  def hitung_luas(self):\n",
        "    pass\n",
        "\n",
        "  @abstractmethod\n",
        "  def hitung_keliling(self):\n",
        "    pass\n",
        "\n",
        "class Lingkaran(BangunDatarAbstrak):\n",
        "  def __init__(self, radius):\n",
        "    super().__init__(\"Lingkaran\")\n",
        "    if radius < 0 :\n",
        "      raise ValueError(\"Radius tidak boleh negatif.\")\n",
        "    self.radius = radius\n",
        "    print(f\"  -> Lingkaran dibuat (Radius: {self.radius}).\")\n",
        "\n",
        "  def hitung_luas(self):\n",
        "    return math.pi * (self.radius ** 2)\n",
        "\n",
        "  def hitung_keliling(self):\n",
        "    return 2 * math.pi * self.radius\n",
        "\n",
        "# --- Kode Utama ---\n",
        "if __name__ == \"__main__\":\n",
        "  print(\"Membuat objek Lingkaran...\")\n",
        "  lingkaran_A = Lingkaran(10)\n",
        "\n",
        "  print(f\"\\nNama bangun (via property): {lingkaran_A.nama}\")\n",
        "\n",
        "  lingkaran_A.info_lengkap()\n",
        "\n",
        "  luas = lingkaran_A.hitung_luas()\n",
        "  keliling = lingkaran_A.hitung_keliling()\n",
        "\n",
        "  print(f\"\\nLuas langsung: {luas: 2f}, Keliling langsung: {keliling: 2f}\")"
      ],
      "metadata": {
        "id": "l-AoNf3l38-A",
        "outputId": "ac2478ef-c5e6-4c75-fed2-bae817cdd425",
        "colab": {
          "base_uri": "https://localhost:8080/"
        }
      },
      "execution_count": 21,
      "outputs": [
        {
          "output_type": "stream",
          "name": "stdout",
          "text": [
            "Membuat objek Lingkaran...\n",
            "Inisialisasi BangunDatarAbstrak: Lingkaran\n",
            "  -> Lingkaran dibuat (Radius: 10).\n",
            "\n",
            "Nama bangun (via property): Lingkaran\n",
            "\n",
            "--- Info Lengkap: Lingkaran ---\n",
            "  Luas   :  314.159265\n",
            "  Keliling   :  62.831853\n",
            "---------------------------\n",
            "\n",
            "Luas langsung:  314.159265, Keliling langsung:  62.831853\n"
          ]
        }
      ]
    },
    {
      "cell_type": "markdown",
      "source": [
        "# Praktikum 06"
      ],
      "metadata": {
        "id": "EZ0EXCr23_V0"
      }
    },
    {
      "cell_type": "code",
      "source": [
        "from abc import ABC, abstractmethod\n",
        "\n",
        "class ElemenGrafis(ABC):\n",
        "  def __init__ (self, id_elemen, warna):\n",
        "    print(f\"[ElemenGrafis __init__] Membuat elemen dengan ID: {id_elemen}\")\n",
        "    self._id = id_elemen\n",
        "    self.warna = warna\n",
        "\n",
        "  @property\n",
        "  def id_elemen(self):\n",
        "    print(f\"[ElemenGrafis id_elemen getter] Mengakses ID: {self._id}\")\n",
        "    return self._id\n",
        "\n",
        "  @property\n",
        "  @abstractmethod\n",
        "  def posisi(self):\n",
        "    print(\"[ElemenGrafis posisi getter abstract] Metode ini seharusnya di-override.\")\n",
        "    ...\n",
        "\n",
        "  @posisi.setter\n",
        "  @abstractmethod\n",
        "  def posisi(self, koordinat_baru):\n",
        "    print(\"[ElemenGrafis posisi setter abstract] Metode ini seharusnya di-overrride.\")\n",
        "    ...\n",
        "\n",
        "  @abstractmethod\n",
        "  def gambar(self):\n",
        "    print(\"[ElemenGrafis gambar abstract] Metode ini seharusnya di-override.\")\n",
        "    pass\n",
        "\n",
        "  def info_warna(self):\n",
        "    print(f\"[ElemenGrafis info_warna] Warna elemen: {self.id_elemen}: {self.warna}\")\n",
        "\n",
        "class Kotak(ElemenGrafis):\n",
        "  def __init__(self, id_elemen, warna, x=0, y=0, lebar=10, tinggi=10):\n",
        "    super().__init__(id_elemen, warna)\n",
        "    print(f\"[Kotak __init__] Menginisialisasi Kotak ID: {self.id_elemen}\")\n",
        "    self._x = x\n",
        "    self._y = y\n",
        "    self.lebar = lebar\n",
        "    self.tinggi = tinggi\n",
        "\n",
        "  @property\n",
        "  def posisi(self):\n",
        "    print(f\"[Kotak posisi getter] Mengembalikan posisi Kotak {self.id_elemen}: {(self._x), (self._y)}\")\n",
        "    return (self._x, self._y)\n",
        "\n",
        "  @posisi.setter\n",
        "  def posisi(self, koordinat_baru):\n",
        "    print(f\"[Kotak posisi setter] Mencoba set posisi Kotak {self.id_elemen} ke: {koordinat_baru}\")\n",
        "    if isinstance(koordinat_baru, tuple) and len(koordinat_baru) == 2:\n",
        "     self._x = koordinat_baru[0]\n",
        "     self._y = koordinat_baru[1]\n",
        "     print(f\"  -> Posisi Kotak {self.id_elemen} berhasil diubah ke {(self._x), (self._y)}\")\n",
        "    else:\n",
        "      print(\"  -> Gagal: posisi harus berupa tuple (x, y).\")\n",
        "\n",
        "  def gambar(self):\n",
        "    print(f\"[Kotak gambar] Menggambar kotak '{self.id_elemen}' warna {self.warna} di {(self._x), (self._y)} dengan ukuran {self.lebar}X{self.tinggi}.\")\n",
        "\n",
        "\n",
        "# --- Kode Utama ---\n",
        "if __name__ == \"__main__\":\n",
        "  print(\"Membuat objek Kotak...\")\n",
        "  kotak1 = Kotak(\"kotakA\", \"merah\", x=5, y=10, lebar=20)\n",
        "  print(\"-\" * 30)\n",
        "\n",
        "  print(\"Mengakses ID...\")\n",
        "  id_ktk = kotak1.id_elemen\n",
        "  print(\"-\" * 30)\n",
        "\n",
        "  print(\"Mengakses Posisi Awal...\")\n",
        "  pos_awal = kotak1.posisi\n",
        "  print(\"-\" * 30)\n",
        "\n",
        "  print(\"Megubah Posisi...\")\n",
        "  kotak1.posisi = (50, 60)\n",
        "  print(\"-\" * 30)\n",
        "\n",
        "  print(\"Mengakses Posisi Baru...\")\n",
        "  pos_baru = kotak1.posisi\n",
        "  print(\"-\" * 30)\n",
        "\n",
        "  print(\"Mencoba Set Posisi Salah...\")\n",
        "  kotak1.posisi = [100, 200]\n",
        "  print(\"-\" * 30)\n",
        "\n",
        "  print(\"Menggambar Kotak...\")\n",
        "  kotak1.gambar()\n",
        "  print(\"-\" * 30)\n",
        "\n",
        "  print(\"Info Warna...\")\n",
        "  kotak1.info_warna()\n",
        "  print(\"-\" * 30)\n"
      ],
      "metadata": {
        "id": "YWo_-DWU4CN5",
        "outputId": "e5387d42-9cf9-44db-fed0-28ec521befbc",
        "colab": {
          "base_uri": "https://localhost:8080/"
        }
      },
      "execution_count": 26,
      "outputs": [
        {
          "output_type": "stream",
          "name": "stdout",
          "text": [
            "Membuat objek Kotak...\n",
            "[ElemenGrafis __init__] Membuat elemen dengan ID: kotakA\n",
            "[ElemenGrafis id_elemen getter] Mengakses ID: kotakA\n",
            "[Kotak __init__] Menginisialisasi Kotak ID: kotakA\n",
            "------------------------------\n",
            "Mengakses ID...\n",
            "[ElemenGrafis id_elemen getter] Mengakses ID: kotakA\n",
            "------------------------------\n",
            "Mengakses Posisi Awal...\n",
            "[ElemenGrafis id_elemen getter] Mengakses ID: kotakA\n",
            "[Kotak posisi getter] Mengembalikan posisi Kotak kotakA: (5, 10)\n",
            "------------------------------\n",
            "Megubah Posisi...\n",
            "[ElemenGrafis id_elemen getter] Mengakses ID: kotakA\n",
            "[Kotak posisi setter] Mencoba set posisi Kotak kotakA ke: (50, 60)\n",
            "[ElemenGrafis id_elemen getter] Mengakses ID: kotakA\n",
            "  -> Posisi Kotak kotakA berhasil diubah ke (50, 60)\n",
            "------------------------------\n",
            "Mengakses Posisi Baru...\n",
            "[ElemenGrafis id_elemen getter] Mengakses ID: kotakA\n",
            "[Kotak posisi getter] Mengembalikan posisi Kotak kotakA: (50, 60)\n",
            "------------------------------\n",
            "Mencoba Set Posisi Salah...\n",
            "[ElemenGrafis id_elemen getter] Mengakses ID: kotakA\n",
            "[Kotak posisi setter] Mencoba set posisi Kotak kotakA ke: [100, 200]\n",
            "  -> Gagal: posisi harus berupa tuple (x, y).\n",
            "------------------------------\n",
            "Menggambar Kotak...\n",
            "[ElemenGrafis id_elemen getter] Mengakses ID: kotakA\n",
            "[Kotak gambar] Menggambar kotak 'kotakA' warna merah di (50, 60) dengan ukuran 20X10.\n",
            "------------------------------\n",
            "Info Warna...\n",
            "[ElemenGrafis id_elemen getter] Mengakses ID: kotakA\n",
            "[ElemenGrafis info_warna] Warna elemen: kotakA: merah\n",
            "------------------------------\n"
          ]
        }
      ]
    },
    {
      "cell_type": "markdown",
      "source": [
        "# **TUGAS**"
      ],
      "metadata": {
        "id": "hvsXoNFV4Fjv"
      }
    },
    {
      "cell_type": "code",
      "source": [],
      "metadata": {
        "id": "fWiLTOg84HbK"
      },
      "execution_count": null,
      "outputs": []
    }
  ]
}