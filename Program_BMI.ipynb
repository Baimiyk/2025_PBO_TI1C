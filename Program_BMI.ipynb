{
  "nbformat": 4,
  "nbformat_minor": 0,
  "metadata": {
    "colab": {
      "provenance": [],
      "authorship_tag": "ABX9TyMJXqPcARkLU6bzcPXlRYDf",
      "include_colab_link": true
    },
    "kernelspec": {
      "name": "python3",
      "display_name": "Python 3"
    },
    "language_info": {
      "name": "python"
    }
  },
  "cells": [
    {
      "cell_type": "markdown",
      "metadata": {
        "id": "view-in-github",
        "colab_type": "text"
      },
      "source": [
        "<a href=\"https://colab.research.google.com/github/Baimiyk/2025_PBO_TI1C/blob/main/Program_BMI.ipynb\" target=\"_parent\"><img src=\"https://colab.research.google.com/assets/colab-badge.svg\" alt=\"Open In Colab\"/></a>"
      ]
    },
    {
      "cell_type": "code",
      "execution_count": 6,
      "metadata": {
        "id": "FBa3bxdt2TvY",
        "colab": {
          "base_uri": "https://localhost:8080/"
        },
        "outputId": "1e04c58c-3ba0-4a83-838b-3346c72be597"
      },
      "outputs": [
        {
          "output_type": "stream",
          "name": "stdout",
          "text": [
            "===== Program Body Mass Index =====\n",
            "Silahkan Masukkan Berat Badan Anda (kg): 76\n",
            "Silahkan Masukkan Tinggi Badan Anda (cm): 174\n",
            "\n",
            "Body Mass Index Anda: 25.1\n",
            "Berat Badan Anda Berlebih (Overweight)\n",
            "Apakah Anda Mau Keluar? (Y/N): n\n",
            "===== Program Body Mass Index =====\n",
            "Silahkan Masukkan Berat Badan Anda (kg): 65\n",
            "Silahkan Masukkan Tinggi Badan Anda (cm): 163\n",
            "\n",
            "Body Mass Index Anda: 24.46\n",
            "Berat Badan Anda Normal\n",
            "Apakah Anda Mau Keluar? (Y/N): y\n",
            "========= Terima Kasih ========\n"
          ]
        }
      ],
      "source": [
        "import os\n",
        "\n",
        "while True:\n",
        "    os.system(\"cls\" if os.name == \"nt\" else \"clear\")\n",
        "    print(\"===== Program Body Mass Index =====\")\n",
        "\n",
        "    while True:\n",
        "        try:\n",
        "            berat = float(input(\"Silahkan Masukkan Berat Badan Anda (kg): \"))\n",
        "            tinggi_cm = float(input(\"Silahkan Masukkan Tinggi Badan Anda (cm): \"))\n",
        "\n",
        "            # Konversi tinggi dari cm ke meter\n",
        "            tinggi = tinggi_cm / 100\n",
        "\n",
        "            if berat <= 0 or tinggi_cm <= 0:\n",
        "                print(\"Berat dan tinggi harus lebih dari 0. Silakan coba lagi!\")\n",
        "                continue\n",
        "            break\n",
        "        except ValueError:\n",
        "            print(\"Input tidak valid! Masukkan angka yang benar.\")\n",
        "\n",
        "    # Perhitungan BMI\n",
        "    bmi = round(berat / (tinggi ** 2), 2)  # Dibulatkan ke 2 desimal\n",
        "    print(f\"\\nBody Mass Index Anda: {bmi}\")\n",
        "\n",
        "    # Klasifikasi BMI\n",
        "    if bmi < 18.5:\n",
        "        print(\"Berat Badan Anda Kurang (Underweight)\")\n",
        "    elif 18.5 <= bmi < 25:\n",
        "        print(\"Berat Badan Anda Normal\")\n",
        "    elif 25 <= bmi < 30:\n",
        "        print(\"Berat Badan Anda Berlebih (Overweight)\")\n",
        "    else:\n",
        "        print(\"Anda Obesitas\")\n",
        "\n",
        "    keluar = input(\"Apakah Anda Mau Keluar? (Y/N): \").strip().lower()\n",
        "    if keluar == \"y\":\n",
        "        break\n",
        "\n",
        "print(\"========= Terima Kasih ========\")\n"
      ]
    }
  ]
}