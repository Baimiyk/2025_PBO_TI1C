{
  "nbformat": 4,
  "nbformat_minor": 0,
  "metadata": {
    "colab": {
      "provenance": [],
      "authorship_tag": "ABX9TyNX9aoeye/RkiZLS7eE/uA3",
      "include_colab_link": true
    },
    "kernelspec": {
      "name": "python3",
      "display_name": "Python 3"
    },
    "language_info": {
      "name": "python"
    }
  },
  "cells": [
    {
      "cell_type": "markdown",
      "metadata": {
        "id": "view-in-github",
        "colab_type": "text"
      },
      "source": [
        "<a href=\"https://colab.research.google.com/github/Baimiyk/2025_PBO_TI1C/blob/main/Jobsheet_04.ipynb\" target=\"_parent\"><img src=\"https://colab.research.google.com/assets/colab-badge.svg\" alt=\"Open In Colab\"/></a>"
      ]
    },
    {
      "cell_type": "markdown",
      "source": [
        "# Praktikum 01"
      ],
      "metadata": {
        "id": "iWc0zkzgdlEt"
      }
    },
    {
      "cell_type": "code",
      "execution_count": null,
      "metadata": {
        "id": "IJ6xhi-tJCCD",
        "outputId": "a9044026-572a-443f-adbe-a6145ea6eb21",
        "colab": {
          "base_uri": "https://localhost:8080/"
        }
      },
      "outputs": [
        {
          "output_type": "stream",
          "name": "stdout",
          "text": [
            "Ini adalah mobil Tesla Model S berwarna Merah\n",
            "Mesin kendaraan Tesla Model S dinyalakan\n",
            "Merk Mobil: Tesla Model S\n"
          ]
        }
      ],
      "source": [
        "# kelas induk\n",
        "class kendaraan:\n",
        "  def __init__(self, merk):\n",
        "    self.merk = merk\n",
        "\n",
        "  def mulai_mesin(self):\n",
        "    print(f\"Mesin kendaraan {self.merk} dinyalakan\")\n",
        "\n",
        "#kelas anak\n",
        "class Mobil(kendaraan):\n",
        "  def __init__(self, merk, warna):\n",
        "    self.merk = merk\n",
        "    self.warna = warna\n",
        "\n",
        "  def info_mobil(self):\n",
        "    print(f\"Ini adalah mobil {self.merk} berwarna {self.warna}\")\n",
        "\n",
        "#---Kode Utama---\n",
        "\n",
        "if __name__ == \"__main__\":\n",
        "      mobil_tesla = Mobil(\"Tesla Model S\", \"Merah\")\n",
        "\n",
        "      mobil_tesla.info_mobil()\n",
        "      mobil_tesla.mulai_mesin()\n",
        "\n",
        "      print(f\"Merk Mobil: {mobil_tesla.merk}\")"
      ]
    },
    {
      "cell_type": "markdown",
      "source": [
        "# Praktikum 02"
      ],
      "metadata": {
        "id": "uViZSVTEdp36"
      }
    },
    {
      "cell_type": "code",
      "source": [
        "#Kelas Induk 2\n",
        "\n",
        "class person:\n",
        "  def __init__(self, nama, usia):\n",
        "    print(f\"Memanggil __init__ Person untuk '{nama}'\")\n",
        "    self.nama = nama\n",
        "    self.usia = usia\n",
        "\n",
        "  def perkenalan_diri(self):\n",
        "    print(f\"Halo, nama saya {self.nama}, usia saya {self.usia} tahun.\")\n",
        "\n",
        "class student(person):\n",
        "  def __init__(self, nama, usia, student_id, jurusan):\n",
        "    print(f\"Memanggil __init__ Student untuk '{nama}'\")\n",
        "\n",
        "    super().__init__(nama, usia)\n",
        "    self.student_id = student_id\n",
        "    self.jurusan = jurusan\n",
        "    print(f\"(Inisialisasi atribut Student selesai untuk '{nama}')\")\n",
        "\n",
        "  def info_akademik(self):\n",
        "    print(f\"ID Mahasiswa: {self.student_id}\")\n",
        "    print(f\"Jurusan: {self.jurusan}\")\n",
        "\n",
        "  def perkenalan_diri(self):\n",
        "    super().perkenalan_diri()\n",
        "    print(f\"Saya adalah mahasiswa dengan ID {self.student_id}, jurusan {self.jurusan}\")\n",
        "\n",
        "#---Kode Utama---\n",
        "\n",
        "if __name__ == \"__main__\":\n",
        "  dosen = person(\"Pak Anton\", 45)\n",
        "  print(\"-\" * 20)\n",
        "  dosen.perkenalan_diri()\n",
        "  print(\"\\n\" + \"=\" * 30 + \"\\n\")\n",
        "\n",
        "  mahasiswa = student(\"Dewi\", 20, \"MHS001\", \"Teknik Komputer\")\n",
        "  print(\"-\" * 20)\n",
        "  mahasiswa.perkenalan_diri()\n",
        "  print(\"-\" * 20)\n",
        "  mahasiswa.info_akademik()\n",
        "\n",
        "  print(f\"\\nUsia mahasiswa {mahasiswa.nama}: {mahasiswa.usia}\")"
      ],
      "metadata": {
        "id": "E2DDoJoHdZ38",
        "outputId": "9819cd2c-c511-4137-f29c-93ef85aa5457",
        "colab": {
          "base_uri": "https://localhost:8080/"
        }
      },
      "execution_count": null,
      "outputs": [
        {
          "output_type": "stream",
          "name": "stdout",
          "text": [
            "Memanggil __init__ Person untuk 'Pak Anton'\n",
            "--------------------\n",
            "Halo, nama saya Pak Anton, usia saya 45 tahun.\n",
            "\n",
            "==============================\n",
            "\n",
            "Memanggil __init__ Student untuk 'Dewi'\n",
            "Memanggil __init__ Person untuk 'Dewi'\n",
            "(Inisialisasi atribut Student selesai untuk 'Dewi')\n",
            "--------------------\n",
            "Halo, nama saya Dewi, usia saya 20 tahun.\n",
            "Saya adalah mahasiswa dengan ID MHS001, jurusan Teknik Komputer\n",
            "--------------------\n",
            "ID Mahasiswa: MHS001\n",
            "Jurusan: Teknik Komputer\n",
            "\n",
            "Usia mahasiswa Dewi: 20\n"
          ]
        }
      ]
    },
    {
      "cell_type": "markdown",
      "source": [
        "# Praktikum 03"
      ],
      "metadata": {
        "id": "PkCToAPxeEki"
      }
    },
    {
      "cell_type": "code",
      "source": [
        "#Kelas Induk\n",
        "\n",
        "class hewan:\n",
        "  def __init__(self,nama):\n",
        "    self.nama = nama\n",
        "\n",
        "  def bersuara(self):\n",
        "      print(f\"{self.nama} mengeluarkan suara generik.\")\n",
        "\n",
        "  def tampilkan_info(self):\n",
        "      print(f\"Ini adalah hewan bernama {self.nama}.\")\n",
        "\n",
        "class kucing(hewan):\n",
        "  def __init__(self, nama, ras):\n",
        "    super().__init__(nama)\n",
        "    self.ras = ras\n",
        "\n",
        "  def bersuara(self):\n",
        "    print(f\"{self.nama} (Kucing) mengeong: Meow!\")\n",
        "\n",
        "  def tampilkan_info(self):\n",
        "    super().tampilkan_info()\n",
        "    print(f\"Ini adalah kucing ras {self.ras}\")\n",
        "\n",
        "#---Kode Utama---\n",
        "\n",
        "if __name__ == \"__main__\":\n",
        "        hewan_umum = hewan(\"Makhluk\")\n",
        "        kucing_persia = kucing(\"PusPus\", \"Persia\")\n",
        "\n",
        "        print(\"Info hewan umum: \")\n",
        "        hewan_umum.tampilkan_info()\n",
        "        hewan_umum.bersuara()\n",
        "        print(\"-\" * 20)\n",
        "\n",
        "        print(\"\\nInfo kucing Persia:\")\n",
        "        kucing_persia.tampilkan_info()\n",
        "        kucing_persia.bersuara()"
      ],
      "metadata": {
        "id": "8y8kQbENefqs",
        "outputId": "6c8d8b51-d787-4272-b4e9-c3edc16ffea5",
        "colab": {
          "base_uri": "https://localhost:8080/"
        }
      },
      "execution_count": null,
      "outputs": [
        {
          "output_type": "stream",
          "name": "stdout",
          "text": [
            "Info hewan umum: \n",
            "Ini adalah hewan bernama Makhluk.\n",
            "Makhluk mengeluarkan suara generik.\n",
            "--------------------\n",
            "\n",
            "Info kucing Persia:\n",
            "Ini adalah hewan bernama PusPus.\n",
            "Ini adalah kucing ras Persia\n",
            "PusPus (Kucing) mengeong: Meow!\n"
          ]
        }
      ]
    },
    {
      "cell_type": "markdown",
      "source": [
        "# Praktikum 04"
      ],
      "metadata": {
        "id": "xSRwlYyfegA0"
      }
    },
    {
      "cell_type": "code",
      "source": [
        "# Kelas Induk level 1\n",
        "\n",
        "class organisme:\n",
        "  def __init__(self, nama):\n",
        "    self.nama = nama\n",
        "    print(f\"Organisme '{self.nama}' diciptakan.\")\n",
        "\n",
        "  def bernapas(self):\n",
        "    print(f\"{self.nama} sedang bernapas.\")\n",
        "\n",
        "class hewan(organisme):\n",
        "  def __init__(self, nama, jenis_makanan):\n",
        "    super().__init__(nama)\n",
        "    self.jenis_makanan = jenis_makanan\n",
        "    print(f\"Hewan '{self.nama}' adalah {self.jenis_makanan}.\")\n",
        "\n",
        "  def bergerak(self):\n",
        "    print(f\"{self.nama} sedang bergerak.\")\n",
        "\n",
        "class mamalia(hewan):\n",
        "  def __init__(self, nama, jenis_makanan, jumlah_kaki):\n",
        "    super().__init__(nama, jenis_makanan)\n",
        "    self.jumlah_kaki = jumlah_kaki\n",
        "    print(f\"Mamalia '{self.nama}' memiliki {self.jumlah_kaki} kaki.\")\n",
        "\n",
        "  def menyusui(self):\n",
        "    print(f\"{self.nama} sedang menyusui.\")\n",
        "\n",
        "#---Kode Utama---\n",
        "\n",
        "if __name__ == \"__main__\":\n",
        "  kucing = mamalia(\"Kucing Persia\", \"Karnivora\", 4)\n",
        "  print(\"-\" * 20)\n",
        "\n",
        "  kucing.menyusui()\n",
        "\n",
        "  kucing.bergerak()\n",
        "  print(f\"Jenis Makanan: {kucing.jenis_makanan}\")\n",
        "\n",
        "  kucing.bernapas()\n",
        "  print(f\"Nama Organisme: {kucing.nama}\")"
      ],
      "metadata": {
        "id": "YDFlb25qeojz",
        "outputId": "a9daa80d-b3b1-4978-daa2-1a8b2d7ba715",
        "colab": {
          "base_uri": "https://localhost:8080/"
        }
      },
      "execution_count": null,
      "outputs": [
        {
          "output_type": "stream",
          "name": "stdout",
          "text": [
            "Organisme 'Kucing Persia' diciptakan.\n",
            "Hewan 'Kucing Persia' adalah Karnivora.\n",
            "Mamalia 'Kucing Persia' memiliki 4 kaki.\n",
            "--------------------\n",
            "Kucing Persia sedang menyusui.\n",
            "Kucing Persia sedang bergerak.\n",
            "Jenis Makanan: Karnivora\n",
            "Kucing Persia sedang bernapas.\n",
            "Nama Organisme: Kucing Persia\n"
          ]
        }
      ]
    },
    {
      "cell_type": "markdown",
      "source": [
        "# Praktikum 05"
      ],
      "metadata": {
        "id": "WLNZf8lFeo2E"
      }
    },
    {
      "cell_type": "code",
      "source": [
        "import locale\n",
        "\n",
        "try:\n",
        "  locale.setlocale(locale.LC_ALL, 'id_ID.UTF-8')  # Mencoba menyetel locale ke id_ID.UTF-8\n",
        "except locale.Error:\n",
        "  # Mencoba locale alternatif jika id_ID.UTF-8 tidak tersedia\n",
        "  try:\n",
        "    locale.setlocale(locale.LC_ALL, 'id_ID')\n",
        "  except locale.Error:\n",
        "    # Jika locale alternatif juga gagal, gunakan locale default dan tampilkan peringatan\n",
        "    print(\"Locale 'id_ID.UTF-8' dan 'id_ID' tidak tersedia. Menggunakan locale default.\")\n",
        "\n",
        "def format_rupiah(angka):\n",
        "  return locale.currency(angka, grouping=True, symbol='Rp ')\n",
        "\n",
        "class pegawai:\n",
        "  def __init__(self, nama, id_pegawai, gaji_pokok):\n",
        "    self.nama = nama\n",
        "    self.id_pegawai = id_pegawai\n",
        "    self.gaji_pokok = gaji_pokok\n",
        "\n",
        "  def hitung_gaji(self):\n",
        "    return self.gaji_pokok\n",
        "\n",
        "  def tampilkan_info(self):\n",
        "    print(f\"ID: {self.id_pegawai}, Nama: {self.nama}\")\n",
        "    print(f\"Gaji Pokok: {format_rupiah(self.gaji_pokok)}\")\n",
        "\n",
        "\n",
        "class manager(pegawai):\n",
        "  def __init__(self, nama, id_pegawai, gaji_pokok, tunjangan_jabatan):\n",
        "    super().__init__(nama, id_pegawai, gaji_pokok)\n",
        "    self.tunjangan_jabatan = tunjangan_jabatan\n",
        "\n",
        "  def hitung_gaji(self):\n",
        "    gaji_total = super().hitung_gaji() + self.tunjangan_jabatan\n",
        "    return gaji_total\n",
        "\n",
        "  def tampilkan_info(self):\n",
        "    print(\"--- Inf Manager ---\")\n",
        "    super().tampilkan_info()\n",
        "    print(f\"Tunjangan Jabatan: {format_rupiah(self.tunjangan_jabatan)}\")\n",
        "    print(f\"Gaji Total: {format_rupiah(self.hitung_gaji())}\")\n",
        "\n",
        "\n",
        "class stafteknis(pegawai):\n",
        "  def __init__(self, nama, id_pegawai, gaji_pokok, keahlian, bonus_keahlian):\n",
        "    super().__init__(nama, id_pegawai, gaji_pokok)\n",
        "    self.keahlian = keahlian\n",
        "    self.bonus_keahlian = bonus_keahlian\n",
        "\n",
        "  def hitung_gaji(self):\n",
        "    gaji_total = super().hitung_gaji() + self.bonus_keahlian\n",
        "    return gaji_total\n",
        "\n",
        "  def tampilkan_info(self):\n",
        "    print(\"--- Info Staf Teknis ---\")\n",
        "    super().tampilkan_info()\n",
        "    print(f\"Keahlian: {self.keahlian}\")\n",
        "    print(f\"Bonus Keahlian: {format_rupiah(self.bonus_keahlian)}\")\n",
        "    print(f\"Gaji TOtal: {format_rupiah(self.hitung_gaji())}\")\n",
        "\n",
        "#---Kode Utama---\n",
        "\n",
        "if __name__ == \"__main__\":\n",
        "  manager1 = manager(\"Budi Santoso\", \"M001\", 10000000, 5000000)\n",
        "  staf1 = stafteknis(\"Citra Lestari\", \"S001\", 7000000, \"Python Programming\", 1500000)\n",
        "  pegawai_baru = pegawai(\"Rian\", \"P005\", 5000000)\n",
        "\n",
        "  print(\"Menampilkan Informasi Pegawai: \")\n",
        "  manager1.tampilkan_info()\n",
        "  print(\"-\" * 30)\n",
        "  staf1.tampilkan_info()\n",
        "  print(\"-\" * 30)\n",
        "\n",
        "  print(\"--- Info Pegawai Baru ---\")\n",
        "\n",
        "  pegawai_baru.tampilkan_info()\n",
        "  print(f\"Total Gaji: {format_rupiah(pegawai_baru.hitung_gaji())}\")\n",
        "  print(\"-\" * 30)"
      ],
      "metadata": {
        "id": "q8eWhsjqewj3",
        "outputId": "5d737b31-1c30-4047-da36-d5c323000244",
        "colab": {
          "base_uri": "https://localhost:8080/"
        }
      },
      "execution_count": null,
      "outputs": [
        {
          "output_type": "stream",
          "name": "stdout",
          "text": [
            "Menampilkan Informasi Pegawai: \n",
            "--- Inf Manager ---\n",
            "ID: M001, Nama: Budi Santoso\n",
            "Gaji Pokok: Rp10.000.000,00\n",
            "Tunjangan Jabatan: Rp5.000.000,00\n",
            "Gaji Total: Rp15.000.000,00\n",
            "------------------------------\n",
            "--- Info Staf Teknis ---\n",
            "ID: S001, Nama: Citra Lestari\n",
            "Gaji Pokok: Rp7.000.000,00\n",
            "Keahlian: Python Programming\n",
            "Bonus Keahlian: Rp1.500.000,00\n",
            "Gaji TOtal: Rp8.500.000,00\n",
            "------------------------------\n",
            "--- Info Pegawai Baru ---\n",
            "ID: P005, Nama: Rian\n",
            "Gaji Pokok: Rp5.000.000,00\n",
            "Total Gaji: Rp5.000.000,00\n",
            "------------------------------\n"
          ]
        }
      ]
    },
    {
      "cell_type": "markdown",
      "source": [
        "# Praktikum 06"
      ],
      "metadata": {
        "id": "_h88o1UrexIY"
      }
    },
    {
      "cell_type": "code",
      "source": [
        "class bentukgeometri:\n",
        "  def __init__(self, nama_bentuk):\n",
        "    self.nama = nama_bentuk\n",
        "  def tampilkan_nama(self):\n",
        "    print(f\"Ini adalah bentuk: {self.nama}\")\n",
        "  def hitung_luas(self):\n",
        "    print(f\"Luas {self.nama} tidak dapat dihitung (generik).\")\n",
        "\n",
        "class persegipanjang(bentukgeometri):\n",
        "  def __init__(self, panjang, lebar):\n",
        "    super().__init__(\"Persegi Panjang\")\n",
        "    self.panjang = panjang\n",
        "    self.lebar = lebar\n",
        "  def hitung_luas(self):\n",
        "    luas = self.panjang * self.lebar\n",
        "    print(f\"Luas {self.nama}: {luas}\")\n",
        "\n",
        "class segitiga(bentukgeometri):\n",
        "  def __init__(self, alas, tinggi):\n",
        "    super().__init__(\"Segitiga\")\n",
        "    self.alas = alas\n",
        "    self.tinggi = tinggi\n",
        "  def hitung_luas(self):\n",
        "    luas = 0.5 * self.alas * self.tinggi\n",
        "    print(f\"Luas {self.nama}: {luas}\")\n",
        "\n",
        "def proses_bentuk(bentuk):\n",
        "  print(f\"\\nMemproses objek: {type(bentuk)}\")\n",
        "\n",
        "  if isinstance(bentuk, bentukgeometri):\n",
        "    bentuk.tampilkan_nama()\n",
        "    print(f\"Objek ini adalah instance dari bentukgeometri (atau turunannya).\")\n",
        "\n",
        "    if isinstance(bentuk, persegipanjang):\n",
        "      print(\"--> Objek ini adalah instance dari persegipanjang.\")\n",
        "    elif isinstance(bentuk, segitiga):\n",
        "      print(\"--> Objek ini adalah instance dari segitiga.\")\n",
        "\n",
        "  else:\n",
        "    print(\"--> Objek ini BUKAN instance dari bentukgeometri.\")\n",
        "\n",
        "  if isinstance(bentuk, str):\n",
        "    print(\"Objek ini adalah string.\")\n",
        "\n",
        "\n",
        "#--- Kode Utama ---\n",
        "\n",
        "if __name__ == \"__main__\":\n",
        "  pp = persegipanjang(4, 3)\n",
        "  seg = segitiga(5,2)\n",
        "  bg = bentukgeometri(\"Lingkaran\")\n",
        "  teks = \"Ini string\"\n",
        "\n",
        "  daftar_objek = [pp, seg, bg, teks]\n",
        "\n",
        "  for obj in daftar_objek:\n",
        "    proses_bentuk(obj)"
      ],
      "metadata": {
        "id": "YWC4D1dYezUC",
        "outputId": "6e549716-7f49-412a-fdd3-751f6c95384d",
        "colab": {
          "base_uri": "https://localhost:8080/"
        }
      },
      "execution_count": null,
      "outputs": [
        {
          "output_type": "stream",
          "name": "stdout",
          "text": [
            "\n",
            "Memproses objek: <class '__main__.persegipanjang'>\n",
            "Ini adalah bentuk: Persegi Panjang\n",
            "Objek ini adalah instance dari bentukgeometri (atau turunannya).\n",
            "--> Objek ini adalah instance dari persegipanjang.\n",
            "\n",
            "Memproses objek: <class '__main__.segitiga'>\n",
            "Ini adalah bentuk: Segitiga\n",
            "Objek ini adalah instance dari bentukgeometri (atau turunannya).\n",
            "--> Objek ini adalah instance dari segitiga.\n",
            "\n",
            "Memproses objek: <class '__main__.bentukgeometri'>\n",
            "Ini adalah bentuk: Lingkaran\n",
            "Objek ini adalah instance dari bentukgeometri (atau turunannya).\n",
            "\n",
            "Memproses objek: <class 'str'>\n",
            "--> Objek ini BUKAN instance dari bentukgeometri.\n",
            "Objek ini adalah string.\n"
          ]
        }
      ]
    },
    {
      "cell_type": "markdown",
      "source": [
        "# TUGAS"
      ],
      "metadata": {
        "id": "6EOMfyhFJyAW"
      }
    },
    {
      "cell_type": "code",
      "source": [
        "class mahasiswa:\n",
        "  def __init__(self, nama, nim, ipk):\n",
        "    self.nama = nama\n",
        "    self.nim = nim\n",
        "    self.ipk = ipk\n",
        "\n",
        "  def tampilkan_info(self):\n",
        "    print(f\"Nama: {self.nama}\")\n",
        "    print(f\"NIM: {self.nim}\")\n",
        "    print(f\"IPK: {self.ipk}\")\n",
        "\n",
        "  def hitung_predikat(self):\n",
        "    if self.ipk >= 3.5:\n",
        "      print(\"Predikat: Dengan Pujian\")\n",
        "    elif self.ipk >= 3.0:\n",
        "      print(\"Predikat: Sangat Memuaskan\")\n",
        "    elif self.ipk >= 2.5:\n",
        "      print(\"Predikat: Memuaskan\")\n",
        "    else:\n",
        "      print(\"Predikat: Cukup\")\n",
        "\n",
        "\n",
        "class mahasiswa_sarjana(mahasiswa):\n",
        "  def __init__(self, nama, nim, ipk, semester, sks_lulus):\n",
        "    super().__init__(nama, nim, ipk)\n",
        "    self.semester = semester\n",
        "    self.sks_lulus = sks_lulus\n",
        "\n",
        "  def tampilkan_info(self):\n",
        "    super().tampilkan_info()\n",
        "    print(f\"Semester: {self.semester}\")\n",
        "    print(f\"SKS lulus: {self.sks_lulus}\")\n",
        "\n",
        "#--- Kode Utama ---\n",
        "\n",
        "mhs1 = mahasiswa(\"Muhammad Ibrahim\", \"4.33.24.2.14\", 3.68)\n",
        "mhs1.tampilkan_info()\n",
        "mhs1.hitung_predikat()\n",
        "\n",
        "print(\"=\" * 30)\n",
        "\n",
        "mhs_sarjana1 = mahasiswa_sarjana(\"Budi\", \"12.34.56\", 3.1, 6, 100)\n",
        "mhs_sarjana1.tampilkan_info()\n",
        "mhs_sarjana1.hitung_predikat()"
      ],
      "metadata": {
        "id": "b7DFtL9eJ0eP",
        "outputId": "74f7a3ad-1299-44df-dc32-ff5e93f95128",
        "colab": {
          "base_uri": "https://localhost:8080/"
        }
      },
      "execution_count": 5,
      "outputs": [
        {
          "output_type": "stream",
          "name": "stdout",
          "text": [
            "Nama: Muhammad Ibrahim\n",
            "NIM: 4.33.24.2.14\n",
            "IPK: 3.68\n",
            "Predikat: Dengan Pujian\n",
            "==============================\n",
            "Nama: Budi\n",
            "NIM: 12.34.56\n",
            "IPK: 3.1\n",
            "Semester: 6\n",
            "SKS lulus: 100\n",
            "Predikat: Sangat Memuaskan\n"
          ]
        }
      ]
    }
  ]
}