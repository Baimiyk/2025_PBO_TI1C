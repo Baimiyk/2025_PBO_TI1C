{
  "nbformat": 4,
  "nbformat_minor": 0,
  "metadata": {
    "colab": {
      "provenance": [],
      "authorship_tag": "ABX9TyNg/Etq+uDB4y+pWFtsYa1+",
      "include_colab_link": true
    },
    "kernelspec": {
      "name": "python3",
      "display_name": "Python 3"
    },
    "language_info": {
      "name": "python"
    }
  },
  "cells": [
    {
      "cell_type": "markdown",
      "metadata": {
        "id": "view-in-github",
        "colab_type": "text"
      },
      "source": [
        "<a href=\"https://colab.research.google.com/github/Baimiyk/2025_PBO_TI1C/blob/main/Jobsheet_02.ipynb\" target=\"_parent\"><img src=\"https://colab.research.google.com/assets/colab-badge.svg\" alt=\"Open In Colab\"/></a>"
      ]
    },
    {
      "cell_type": "markdown",
      "source": [
        "# Praktikum 1\n",
        "Membuat dan Menggunakan Fungsi"
      ],
      "metadata": {
        "id": "C8KkIERiNOeH"
      }
    },
    {
      "cell_type": "code",
      "source": [],
      "metadata": {
        "id": "Z42xdhd6NxE0"
      },
      "execution_count": null,
      "outputs": []
    },
    {
      "cell_type": "markdown",
      "source": [
        "# Praktikum 2\n",
        "Modularisasi Kode dengan Fungsi"
      ],
      "metadata": {
        "id": "fwOvsPFMNWnE"
      }
    },
    {
      "cell_type": "code",
      "source": [],
      "metadata": {
        "id": "U63vA8sJNzJT"
      },
      "execution_count": null,
      "outputs": []
    },
    {
      "cell_type": "markdown",
      "source": [
        "# Praktikum 3\n",
        "Membuat Kelas Sederhana"
      ],
      "metadata": {
        "id": "x8jWYsnCNoHg"
      }
    },
    {
      "cell_type": "code",
      "source": [],
      "metadata": {
        "id": "Ra4MtJHPOF5g"
      },
      "execution_count": null,
      "outputs": []
    },
    {
      "cell_type": "code",
      "source": [],
      "metadata": {
        "id": "wqpymwicN0hx"
      },
      "execution_count": null,
      "outputs": []
    },
    {
      "cell_type": "markdown",
      "source": [
        "# Praktikum 4\n",
        "Membuat dan Menggunakan Method dalam Kelas"
      ],
      "metadata": {
        "id": "3pHm_fw-N6_6"
      }
    }
  ]
}