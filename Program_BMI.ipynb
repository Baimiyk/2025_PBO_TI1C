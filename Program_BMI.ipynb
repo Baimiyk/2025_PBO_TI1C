{
  "nbformat": 4,
  "nbformat_minor": 0,
  "metadata": {
    "colab": {
      "provenance": [],
      "authorship_tag": "ABX9TyNSSLS9Y6/lChtcmehj9Wpr",
      "include_colab_link": true
    },
    "kernelspec": {
      "name": "python3",
      "display_name": "Python 3"
    },
    "language_info": {
      "name": "python"
    }
  },
  "cells": [
    {
      "cell_type": "markdown",
      "metadata": {
        "id": "view-in-github",
        "colab_type": "text"
      },
      "source": [
        "<a href=\"https://colab.research.google.com/github/Baimiyk/2025_PBO_TI1C/blob/main/Program_BMI.ipynb\" target=\"_parent\"><img src=\"https://colab.research.google.com/assets/colab-badge.svg\" alt=\"Open In Colab\"/></a>"
      ]
    },
    {
      "cell_type": "code",
      "execution_count": 2,
      "metadata": {
        "id": "FBa3bxdt2TvY",
        "colab": {
          "base_uri": "https://localhost:8080/"
        },
        "outputId": "d175993e-3a61-46e3-b548-18a1158399e3"
      },
      "outputs": [
        {
          "output_type": "stream",
          "name": "stdout",
          "text": [
            "===== Program Body Mass Index =====\n",
            "Silahkan Masukkan Berat Badan Anda (kg): 73\n",
            "Silahkan Masukkan Tinggi Badan Anda (meter): 1.68\n",
            "\n",
            "Body Mass Index Anda: 25.86\n",
            "Berat Badan Anda Berlebih (Overweight)\n",
            "Apakah Anda Mau Keluar? (Y/N): y\n",
            "========= Terima Kasih ========\n"
          ]
        }
      ],
      "source": [
        "import os\n",
        "\n",
        "while True:\n",
        "    os.system(\"cls\")\n",
        "    print(\"===== Program Body Mass Index =====\")\n",
        "\n",
        "    while True:\n",
        "        try:\n",
        "            berat = float(input(\"Silahkan Masukkan Berat Badan Anda (kg): \"))\n",
        "            tinggi = float(input(\"Silahkan Masukkan Tinggi Badan Anda (meter): \"))\n",
        "            if berat <= 0 or tinggi <= 0:\n",
        "                print(\"Berat dan tinggi harus lebih dari 0. Silakan coba lagi!\")\n",
        "                continue\n",
        "            break\n",
        "        except ValueError:\n",
        "            print(\"Input tidak valid! Masukkan angka yang benar.\")\n",
        "\n",
        "    bmi = round(berat / (tinggi ** 2), 2)  # BMI dibulatkan ke 2 desimal\n",
        "    print(f\"\\nBody Mass Index Anda: {bmi}\")\n",
        "\n",
        "    if bmi < 18.5:\n",
        "        print(\"Berat Badan Anda Kurang (Underweight)\")\n",
        "    elif 18.5 <= bmi < 25:\n",
        "        print(\"Berat Badan Anda Normal\")\n",
        "    elif 25 <= bmi < 30:\n",
        "        print(\"Berat Badan Anda Berlebih (Overweight)\")\n",
        "    else:\n",
        "        print(\"Anda Obesitas\")\n",
        "\n",
        "    keluar = input(\"Apakah Anda Mau Keluar? (Y/N): \").strip().lower()\n",
        "    if keluar == \"y\":1\n",
        "    break\n",
        "print(\"========= Terima Kasih ========\")\n"
      ]
    }
  ]
}