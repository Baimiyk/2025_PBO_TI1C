{
  "nbformat": 4,
  "nbformat_minor": 0,
  "metadata": {
    "colab": {
      "provenance": [],
      "authorship_tag": "ABX9TyP5QjCowtjjmO4msGz5MPgR",
      "include_colab_link": true
    },
    "kernelspec": {
      "name": "python3",
      "display_name": "Python 3"
    },
    "language_info": {
      "name": "python"
    }
  },
  "cells": [
    {
      "cell_type": "markdown",
      "metadata": {
        "id": "view-in-github",
        "colab_type": "text"
      },
      "source": [
        "<a href=\"https://colab.research.google.com/github/Baimiyk/2025_PBO_TI1C/blob/main/Jobsheet_06.ipynb\" target=\"_parent\"><img src=\"https://colab.research.google.com/assets/colab-badge.svg\" alt=\"Open In Colab\"/></a>"
      ]
    },
    {
      "cell_type": "markdown",
      "source": [
        "# Praktikum 01"
      ],
      "metadata": {
        "id": "lFF70oCe3ler"
      }
    },
    {
      "cell_type": "code",
      "execution_count": 3,
      "metadata": {
        "id": "w5nnd7J_3Ri2",
        "outputId": "5543deda-dcd8-4935-b6e8-7f4c58da3bc7",
        "colab": {
          "base_uri": "https://localhost:8080/"
        }
      },
      "outputs": [
        {
          "output_type": "stream",
          "name": "stdout",
          "text": [
            "Definisi Kelas Abstrack 'KendaraanAbstract' selesai.\n",
            "\n",
            "COntoh definisi anak 'Mobil' selesai.\n",
            "Inisialisasi KendaraanAbstrack dengan merk: Toyota\n",
            "Merk kendaraan ini adalah Toyota.\n",
            "Mesin mobil Toyota dinyalakan.\n",
            "Mesin mobil Toyota dimatikan.\n"
          ]
        }
      ],
      "source": [
        "from abc import ABC, abstractmethod\n",
        "\n",
        "class KendaraanAbstrack(ABC) :\n",
        "\n",
        "  def __init__(self, merk) :\n",
        "    self.merk = merk\n",
        "    print(f\"Inisialisasi KendaraanAbstrack dengan merk: {self.merk}\")\n",
        "\n",
        "  def info_merk(self) :\n",
        "    print(f\"Merk kendaraan ini adalah {self.merk}.\")\n",
        "\n",
        "\n",
        "  @abstractmethod\n",
        "  def start_mesin(self):\n",
        "    print(f\"Mesin mobil {self.merk} dinyalakan.\")\n",
        "\n",
        "  def stop_mesin(self) :\n",
        "    print(f\"Mesin mobil {self.merk} dimatikan.\")\n",
        "\n",
        "# --- Kode Utama ---\n",
        "\n",
        "if __name__ == \"__main__\":\n",
        "  print(\"Definisi Kelas Abstrack 'KendaraanAbstract' selesai.\")\n",
        "\n",
        "  class Mobil(KendaraanAbstrack):\n",
        "    def start_mesin(self):\n",
        "      print(f\"Mesin mobil {self.merk} dinyalakan.\")\n",
        "\n",
        "    def stop_mesin(self):\n",
        "      print(f\"Mesin mobil {self.merk} dimatikan.\")\n",
        "\n",
        "  print(\"\\nCOntoh definisi anak 'Mobil' selesai.\")\n",
        "\n",
        "  mobil_contoh = Mobil(\"Toyota\")\n",
        "  mobil_contoh.info_merk()\n",
        "  mobil_contoh.start_mesin()\n",
        "  mobil_contoh.stop_mesin()"
      ]
    },
    {
      "cell_type": "markdown",
      "source": [
        "# Praktikum 02"
      ],
      "metadata": {
        "id": "LW484aqc3nzt"
      }
    },
    {
      "cell_type": "code",
      "source": [
        "from abc import ABC, abstractmethod\n",
        "\n",
        "class MediaAbstrak(ABC) :\n",
        "  def __init__(self, judul) :\n",
        "    self.judul = judul\n",
        "    print(f\"Inisialisasi MediaAbstrak dengan judul: {self.judul}\")\n",
        "\n",
        "  @abstractmethod\n",
        "  def play(self):\n",
        "    pass\n",
        "\n",
        "  @abstractmethod\n",
        "  def stop(self):\n",
        "    pass\n",
        "\n",
        "# --- Kode Utama ---\n",
        "\n",
        "if __name__ == \"__main__\":\n",
        "  print(\"Mencoba membuat objek dari kelas abstrak MediaAbstrak.....\")\n",
        "\n",
        "  try:\n",
        "    media = MediaAbstrak(\"Konten Abstrack\")\n",
        "\n",
        "    print(\"Objek berhasi dibuat (SEHARUSNYA TIDAK TERJDAI).\")\n",
        "    media.play()\n",
        "\n",
        "  except TypeError as e:\n",
        "    print(f\"\\nGAGAL membuat objek!\")\n",
        "    print(f\"Error yang munvul (sesuai harapan): {e}\")\n",
        "    print(f\"\\nIni membuktikan bahwa kelas abstrak tidak bisa diinstansi\")\n",
        "    print(\"jika masih memiliki metode abstrak yang belum diimplementasikan.\")"
      ],
      "metadata": {
        "id": "dZg7FHYS3s85",
        "outputId": "75b2f4b3-f2d3-41ae-b014-7db9e4bfb9e6",
        "colab": {
          "base_uri": "https://localhost:8080/"
        }
      },
      "execution_count": 4,
      "outputs": [
        {
          "output_type": "stream",
          "name": "stdout",
          "text": [
            "Mencoba membuat objek dari kelas abstrak MediaAbstrak.....\n",
            "\n",
            "GAGAL membuat objek!\n",
            "Error yang munvul (sesuai harapan): Can't instantiate abstract class MediaAbstrak with abstract methods play, stop\n",
            "\n",
            "Ini membuktikan bahwa kelas abstrak tidak bisa diinstansi\n",
            "jika masih memiliki metode abstrak yang belum diimplementasikan.\n"
          ]
        }
      ]
    },
    {
      "cell_type": "markdown",
      "source": [
        "# Praktikum 03"
      ],
      "metadata": {
        "id": "AdXgpr373tfI"
      }
    },
    {
      "cell_type": "code",
      "source": [
        "from abc import ABC, abstractmethod\n",
        "import locale\n",
        "import random\n",
        "\n",
        "try:\n",
        "  locale.setlocale(locale.LC_ALL, 'id_ID.UTF-8')\n",
        "except locale.Error:\n",
        "  print(\"Locale id_ID.UTF-8 tidak tersedia, gunakan locale default.\")\n",
        "\n",
        "def format_rupiah(angka):\n",
        "   try:\n",
        "        # Coba format menggunakan locale jika tersedia\n",
        "        formatted = locale.currency(angka, grouping=True, symbol='Rp ')\n",
        "        return formatted\n",
        "   except Exception:\n",
        "        # Jika gagal (misalnya locale tidak diset atau tidak tersedia), fallback manual\n",
        "        return f\"Rp {angka:,.0f}\".replace(',', '.')\n",
        "\n",
        "class AlatPembayaranAbstrak(ABC):\n",
        "  def __init__(self, nama_metode):\n",
        "    self.nama_metode = nama_metode\n",
        "    print(f\"Inisialisasi alat pembayaran: {self.nama_metode}\")\n",
        "\n",
        "  def info(self):\n",
        "    print(f\"Metode Pembayaran: {self.nama_metode}\")\n",
        "\n",
        "  @abstractmethod\n",
        "  def proses_pembayaran(self, jumlah):\n",
        "    pass\n",
        "\n",
        "class KartuKredit(AlatPembayaranAbstrak):\n",
        "  def __init__(self, nama_pemilik, nomor_kartu):\n",
        "    super().__init__(\"Kartu Kredit\")\n",
        "    self.nomor_kartu = nomor_kartu[-4:]\n",
        "    self.nama_pemilik = nama_pemilik\n",
        "    print(f\"   -> Kartu Kredit ************{self.nomor_kartu}({self.nama_pemilik}) siap.\")\n",
        "\n",
        "  def proses_pembayaran(self, jumlah):\n",
        "    print(f\"  Memproses pembayaran {format_rupiah(jumlah)} via Kartu Kredit ************{self.nomor_kartu}....\")\n",
        "    berhasil = random.choice([True, False])\n",
        "    if berhasil:\n",
        "      print(\"  Pembayaran Kartu Kredit Berhasil.\")\n",
        "      return True\n",
        "    else:\n",
        "      print(\"  Pembayaran Kartu Kredit Gagal (Limit tidak cukup/Error).\")\n",
        "      return False\n",
        "\n",
        "class DompetDigital(AlatPembayaranAbstrak):\n",
        "  def __init__(self, nomor_telepon, nama_provider):\n",
        "    super().__init__(f\"Dompet Digital ({nama_provider})\")\n",
        "    self.nomor_telepon = nomor_telepon\n",
        "    self.saldo = random.randint(50000, 500000)\n",
        "    print(f\"   -> Dompet Digital {self.nomor_telepon} siap (saldo: {format_rupiah(self.saldo)}).\")\n",
        "\n",
        "  def proses_pembayaran(self, jumlah):\n",
        "    print(f\"  Memproses pembayaran {format_rupiah(jumlah)} via Dompet Digital {self.nomor_telepon}....\")\n",
        "    if jumlah <= self.saldo:\n",
        "      self.saldo -= jumlah\n",
        "      print(\"  Pembayaran Dompet Digital Berhasil.\")\n",
        "      print(f\"  Saldo Tersisa: {format_rupiah(self.saldo)}.\")\n",
        "      return True\n",
        "\n",
        "    else:\n",
        "      print(\"  Pembayaran Dompet Digital Gagal (Saldo tidak mencukupi).\")\n",
        "      print(f\"  Saldo saat ini: {format_rupiah(self.saldo)}\")\n",
        "      return False\n",
        "\n",
        "\n",
        "# --- Kode Utama ---\n",
        "if __name__ == \"__main__\":\n",
        "  print(\"\\nMembuat Objek Alat Pembayaran....\")\n",
        "  kartu_bca = KartuKredit(\"1234-5678-9012-3456\", \"Budi Cahyono\")\n",
        "  gopay = DompetDigital(\"081234567890\", \"GoPay\")\n",
        "\n",
        "  print(\"\\nMelakukan Pembayaran: \")\n",
        "  print(\"\\nMencoba bayar dengan Kartu Kredit: \")\n",
        "  kartu_bca.info()\n",
        "  status_kk = kartu_bca.proses_pembayaran(150000)\n",
        "  print(f\"Status Transaksi KK: {'Sukses' if status_kk else 'Gagal'}\")\n",
        "\n",
        "  print(\"\\nMencoba bayar dengan GoPay (Jumlah Kecil):\")\n",
        "  gopay.info()\n",
        "  status_gopay1 = gopay.proses_pembayaran(75000)\n",
        "  print(f\"Status Transaksi GoPay: {'Sukses' if status_gopay1 else 'Gagal'}\")\n",
        "\n",
        "  print(\"\\nMencoba bayar dengan GoPay (Jumlah Besar):\")\n",
        "  gopay.info()\n",
        "  status_gopay2 = gopay.proses_pembayaran(1000000)\n",
        "  print(f\"  Status Transaksi Gopay 2: {'Sukses' if status_gopay2 else 'Gagal'}\")"
      ],
      "metadata": {
        "id": "_hPlP2uI3vfy",
        "colab": {
          "base_uri": "https://localhost:8080/"
        },
        "outputId": "16eeffa8-af0f-4f09-d7f2-85783583676e"
      },
      "execution_count": 15,
      "outputs": [
        {
          "output_type": "stream",
          "name": "stdout",
          "text": [
            "Locale id_ID.UTF-8 tidak tersedia, gunakan locale default.\n",
            "\n",
            "Membuat Objek Alat Pembayaran....\n",
            "Inisialisasi alat pembayaran: Kartu Kredit\n",
            "   -> Kartu Kredit ************yono(1234-5678-9012-3456) siap.\n",
            "Inisialisasi alat pembayaran: Dompet Digital (GoPay)\n",
            "   -> Dompet Digital 081234567890 siap (saldo: Rp 177.010).\n",
            "\n",
            "Melakukan Pembayaran: \n",
            "\n",
            "Mencoba bayar dengan Kartu Kredit: \n",
            "Metode Pembayaran: Kartu Kredit\n",
            "  Memproses pembayaran Rp 150.000 via Kartu Kredit ************yono....\n",
            "  Pembayaran Kartu Kredit Berhasil.\n",
            "Status Transaksi KK: Sukses\n",
            "\n",
            "Mencoba bayar dengan GoPay (Jumlah Kecil):\n",
            "Metode Pembayaran: Dompet Digital (GoPay)\n",
            "  Memproses pembayaran Rp 75.000 via Dompet Digital 081234567890....\n",
            "  Pembayaran Dompet Digital Berhasil.\n",
            "  Saldo Tersisa: Rp 102.010.\n",
            "Status Transaksi GoPay: Sukses\n",
            "\n",
            "Mencoba bayar dengan GoPay (Jumlah Besar):\n",
            "Metode Pembayaran: Dompet Digital (GoPay)\n",
            "  Memproses pembayaran Rp 1.000.000 via Dompet Digital 081234567890....\n",
            "  Pembayaran Dompet Digital Gagal (Saldo tidak mencukupi).\n",
            "  Saldo saat ini: Rp 102.010\n",
            "  Status Transaksi Gopay 2: Gagal\n"
          ]
        }
      ]
    },
    {
      "cell_type": "markdown",
      "source": [
        "# Praktkum 04"
      ],
      "metadata": {
        "id": "zPI6IzD-3vs1"
      }
    },
    {
      "cell_type": "code",
      "source": [],
      "metadata": {
        "id": "y5mAmA6b3yxo"
      },
      "execution_count": null,
      "outputs": []
    },
    {
      "cell_type": "markdown",
      "source": [
        "# Praktikum 05"
      ],
      "metadata": {
        "id": "5eXPNp-k36gw"
      }
    },
    {
      "cell_type": "code",
      "source": [],
      "metadata": {
        "id": "l-AoNf3l38-A"
      },
      "execution_count": null,
      "outputs": []
    },
    {
      "cell_type": "markdown",
      "source": [
        "# Praktikum 06"
      ],
      "metadata": {
        "id": "EZ0EXCr23_V0"
      }
    },
    {
      "cell_type": "code",
      "source": [],
      "metadata": {
        "id": "YWo_-DWU4CN5"
      },
      "execution_count": null,
      "outputs": []
    },
    {
      "cell_type": "markdown",
      "source": [
        "# **TUGAS**"
      ],
      "metadata": {
        "id": "hvsXoNFV4Fjv"
      }
    },
    {
      "cell_type": "code",
      "source": [],
      "metadata": {
        "id": "fWiLTOg84HbK"
      },
      "execution_count": null,
      "outputs": []
    }
  ]
}