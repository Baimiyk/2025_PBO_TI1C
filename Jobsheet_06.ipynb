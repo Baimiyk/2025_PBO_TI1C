{
  "nbformat": 4,
  "nbformat_minor": 0,
  "metadata": {
    "colab": {
      "provenance": [],
      "authorship_tag": "ABX9TyOolV2Hlmx27MObOvDdJUhQ",
      "include_colab_link": true
    },
    "kernelspec": {
      "name": "python3",
      "display_name": "Python 3"
    },
    "language_info": {
      "name": "python"
    }
  },
  "cells": [
    {
      "cell_type": "markdown",
      "metadata": {
        "id": "view-in-github",
        "colab_type": "text"
      },
      "source": [
        "<a href=\"https://colab.research.google.com/github/Baimiyk/2025_PBO_TI1C/blob/main/Jobsheet_06.ipynb\" target=\"_parent\"><img src=\"https://colab.research.google.com/assets/colab-badge.svg\" alt=\"Open In Colab\"/></a>"
      ]
    },
    {
      "cell_type": "markdown",
      "source": [
        "# Praktikum 01"
      ],
      "metadata": {
        "id": "lFF70oCe3ler"
      }
    },
    {
      "cell_type": "code",
      "execution_count": null,
      "metadata": {
        "id": "w5nnd7J_3Ri2"
      },
      "outputs": [],
      "source": []
    },
    {
      "cell_type": "markdown",
      "source": [
        "# Praktikum 02"
      ],
      "metadata": {
        "id": "LW484aqc3nzt"
      }
    },
    {
      "cell_type": "code",
      "source": [],
      "metadata": {
        "id": "dZg7FHYS3s85"
      },
      "execution_count": null,
      "outputs": []
    },
    {
      "cell_type": "markdown",
      "source": [
        "# Praktikum 03"
      ],
      "metadata": {
        "id": "AdXgpr373tfI"
      }
    },
    {
      "cell_type": "code",
      "source": [],
      "metadata": {
        "id": "_hPlP2uI3vfy"
      },
      "execution_count": null,
      "outputs": []
    },
    {
      "cell_type": "markdown",
      "source": [
        "# Praktkum 04"
      ],
      "metadata": {
        "id": "zPI6IzD-3vs1"
      }
    },
    {
      "cell_type": "code",
      "source": [],
      "metadata": {
        "id": "y5mAmA6b3yxo"
      },
      "execution_count": null,
      "outputs": []
    },
    {
      "cell_type": "markdown",
      "source": [
        "# Praktikum 05"
      ],
      "metadata": {
        "id": "5eXPNp-k36gw"
      }
    },
    {
      "cell_type": "code",
      "source": [],
      "metadata": {
        "id": "l-AoNf3l38-A"
      },
      "execution_count": null,
      "outputs": []
    },
    {
      "cell_type": "markdown",
      "source": [
        "# Praktikum 06"
      ],
      "metadata": {
        "id": "EZ0EXCr23_V0"
      }
    },
    {
      "cell_type": "code",
      "source": [],
      "metadata": {
        "id": "YWo_-DWU4CN5"
      },
      "execution_count": null,
      "outputs": []
    },
    {
      "cell_type": "markdown",
      "source": [
        "# **TUGAS**"
      ],
      "metadata": {
        "id": "hvsXoNFV4Fjv"
      }
    },
    {
      "cell_type": "code",
      "source": [],
      "metadata": {
        "id": "fWiLTOg84HbK"
      },
      "execution_count": null,
      "outputs": []
    }
  ]
}