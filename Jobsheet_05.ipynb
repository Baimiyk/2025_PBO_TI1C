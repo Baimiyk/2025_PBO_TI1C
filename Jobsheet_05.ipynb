{
  "nbformat": 4,
  "nbformat_minor": 0,
  "metadata": {
    "colab": {
      "provenance": [],
      "authorship_tag": "ABX9TyPKhPZwxQWqD5O3lPJNddHz",
      "include_colab_link": true
    },
    "kernelspec": {
      "name": "python3",
      "display_name": "Python 3"
    },
    "language_info": {
      "name": "python"
    }
  },
  "cells": [
    {
      "cell_type": "markdown",
      "metadata": {
        "id": "view-in-github",
        "colab_type": "text"
      },
      "source": [
        "<a href=\"https://colab.research.google.com/github/Baimiyk/2025_PBO_TI1C/blob/main/Jobsheet_05.ipynb\" target=\"_parent\"><img src=\"https://colab.research.google.com/assets/colab-badge.svg\" alt=\"Open In Colab\"/></a>"
      ]
    },
    {
      "cell_type": "markdown",
      "source": [
        "# Praktikum 01"
      ],
      "metadata": {
        "id": "6zyTNv9UaaI_"
      }
    },
    {
      "cell_type": "code",
      "execution_count": 20,
      "metadata": {
        "id": "qUmwkGUcaYmo",
        "outputId": "5c6e9321-078b-49d0-dfd3-6846e94296d8",
        "colab": {
          "base_uri": "https://localhost:8080/"
        }
      },
      "outputs": [
        {
          "output_type": "stream",
          "name": "stdout",
          "text": [
            "\n",
            "Aksi Burung: \n",
            "-- Aksi untuk Elang Jawa --\n",
            "Elang Jawa terbang tinggi melayang di angkasa.\n",
            "Elang Jawa berteriak nyaring!\n",
            "------------------------------\n",
            "-- Aksi untuk Pipit Gereja --\n",
            "Pipit Gereja terbang cepat di antara pepohonan.\n",
            "Pipit Gereja berkicau merdu: Cit cit!.\n",
            "------------------------------\n",
            "-- Aksi untuk Burung Misterius --\n",
            "Burung Misterius terbang dengan cara umum.\n",
            "Burung Misterius mengeluarkan suara burung.\n",
            "------------------------------\n"
          ]
        }
      ],
      "source": [
        "# Kelas Induk\n",
        "\n",
        "class burung:\n",
        "  def __init__(self, nama):\n",
        "    self.nama = nama\n",
        "\n",
        "  def terbang(self):\n",
        "    print(f\"{self.nama} terbang dengan cara umum.\")\n",
        "\n",
        "  def bersuara(self):\n",
        "    print(f\"{self.nama} mengeluarkan suara burung.\")\n",
        "\n",
        "\n",
        "# Kelas anak 1\n",
        "\n",
        "class elang(burung):\n",
        "  def __init__(self, nama, rentang_sayap):\n",
        "    super().__init__(nama)\n",
        "    self.rentang_sayap = rentang_sayap\n",
        "\n",
        "  # Override\n",
        "  def terbang(self):\n",
        "    print(f\"{self.nama} terbang tinggi melayang di angkasa.\")\n",
        "\n",
        "  def bersuara(self):\n",
        "    print(f\"{self.nama} berteriak nyaring!\")\n",
        "\n",
        "# Kelas anak 2\n",
        "\n",
        "class pipit(burung):\n",
        "  def __init__(self, nama, warna_bulu):\n",
        "    super().__init__(nama)\n",
        "    self.warna_bulu = warna_bulu\n",
        "\n",
        "  # Override\n",
        "  def terbang(self):\n",
        "    print(f\"{self.nama} terbang cepat di antara pepohonan.\")\n",
        "\n",
        "  def bersuara(self):\n",
        "    print(f\"{self.nama} berkicau merdu: Cit cit!.\")\n",
        "\n",
        "\n",
        "def demonstrasi_aksi_burung(daftar_burung):\n",
        "  print(\"\\nAksi Burung: \")\n",
        "  for burung in daftar_burung:\n",
        "    print(f\"-- Aksi untuk {burung.nama} --\")\n",
        "\n",
        "    burung.terbang()\n",
        "    burung.bersuara()\n",
        "    print(\"-\" * 30)\n",
        "\n",
        "#--- Kode Utama ---\n",
        "\n",
        "if __name__ == \"__main__\":\n",
        "  elang_jawa = elang(\"Elang Jawa\", 2.5)\n",
        "  pipit_gereja = pipit(\"Pipit Gereja\", \"cokelat\")\n",
        "  burung_aneh = burung(\"Burung Misterius\")\n",
        "\n",
        "  koleksi_burung = [elang_jawa, pipit_gereja, burung_aneh]\n",
        "  demonstrasi_aksi_burung(koleksi_burung)"
      ]
    },
    {
      "cell_type": "markdown",
      "source": [
        "# Praktikum 02"
      ],
      "metadata": {
        "id": "xo9t-Y3RbAp2"
      }
    },
    {
      "cell_type": "code",
      "source": [
        "class kucing:\n",
        "  def bersuara(self):\n",
        "    print(\"Kucing: Meoww!\")\n",
        "\n",
        "class anjing:\n",
        "  def bersuara(self):\n",
        "    print(\"Anjing: Guk Guk!\")\n",
        "\n",
        "class bebek:\n",
        "  def bersuara(self):\n",
        "    print(\"Bebek: Kwekk Kwekk!\")\n",
        "\n",
        "class mobil:\n",
        "  def jalankan(self):\n",
        "    print(\"Mobil: Brummmm!\")\n",
        "\n",
        "\n",
        "def buat_suara(objek_yang_bisa_bersuara):\n",
        "  try:\n",
        "    objek_yang_bisa_bersuara.bersuara()\n",
        "  except AttributeError:\n",
        "    print(f\"Objek {type(objek_yang_bisa_bersuara).__name__} tidak bisa bersuara.\")\n",
        "\n",
        "#--- Kode Utama ---\n",
        "\n",
        "if __name__ == \"__main__\":\n",
        "  kucing1 = kucing()\n",
        "  anjing1 = anjing()\n",
        "  bebek1 = bebek()\n",
        "  mobil1 = mobil()\n",
        "\n",
        "  daftar_objek = [kucing1, anjing1, bebek1, mobil1]\n",
        "\n",
        "  print(\"Demonstrasi Duck Typing: \")\n",
        "  for item in daftar_objek:\n",
        "    buat_suara(item)"
      ],
      "metadata": {
        "id": "h25co2ZwbFsu",
        "outputId": "d6438126-96ba-4ca9-bb0e-ed6fc86dacba",
        "colab": {
          "base_uri": "https://localhost:8080/"
        }
      },
      "execution_count": 21,
      "outputs": [
        {
          "output_type": "stream",
          "name": "stdout",
          "text": [
            "Demonstrasi Duck Typing: \n",
            "Kucing: Meoww!\n",
            "Anjing: Guk Guk!\n",
            "Bebek: Kwekk Kwekk!\n",
            "Objek mobil tidak bisa bersuara.\n"
          ]
        }
      ]
    },
    {
      "cell_type": "markdown",
      "source": [
        "# Praktikum 03"
      ],
      "metadata": {
        "id": "RDssZl2xbF_7"
      }
    },
    {
      "cell_type": "code",
      "source": [
        "class kalkulatorsederhana:\n",
        "  def __init__(self, nama=\"kalkulator\"):\n",
        "    self.nama = nama\n",
        "    print(f\"{self.nama} siap digunakan.\")\n",
        "\n",
        "  def tambah(self, *args):\n",
        "    print(f\"\\nMemanggil metode tambah dengan argumen: {args}\")\n",
        "    if not args:\n",
        "      print(\"TIdak ada angka untuk dijumlahkan.\")\n",
        "      return 0\n",
        "\n",
        "    total = 0\n",
        "    valid_input = True\n",
        "    for angka in args:\n",
        "      if isinstance(angka, (int, float)):\n",
        "        total += angka\n",
        "      else:\n",
        "        print(f\"Peringatan: Argumen '{angka}' bukan angka dan akan diabaikan.\")\n",
        "        valid_input = False\n",
        "\n",
        "    if valid_input:\n",
        "      print(f\"Hasil penjumlahan: {total}\")\n",
        "    else:\n",
        "      print(f\"Hasil penjumlahan (dengan beberapa inpput diabaikan) : {total}.\")\n",
        "    return total\n",
        "\n",
        "#--- Kode Utama ---\n",
        "\n",
        "if __name__ == \"__main__\":\n",
        "  kalkulator = kalkulatorsederhana(\"Calc-01\")\n",
        "\n",
        "  print(\"\\n--- Percobaan Penjumlahan ---\")\n",
        "\n",
        "  kalkulator.tambah(5, 10)\n",
        "  kalkulator.tambah(2, 3, 5, 10)\n",
        "  kalkulator.tambah(100)\n",
        "  kalkulator.tambah()\n",
        "  kalkulator.tambah(1, 2, \"tiga\", 4, 5.5)"
      ],
      "metadata": {
        "id": "-n8o3jGsbMNf",
        "outputId": "f75692ed-8556-4f2f-96ba-0270dc9ae800",
        "colab": {
          "base_uri": "https://localhost:8080/"
        }
      },
      "execution_count": 22,
      "outputs": [
        {
          "output_type": "stream",
          "name": "stdout",
          "text": [
            "Calc-01 siap digunakan.\n",
            "\n",
            "--- Percobaan Penjumlahan ---\n",
            "\n",
            "Memanggil metode tambah dengan argumen: (5, 10)\n",
            "Hasil penjumlahan: 15\n",
            "\n",
            "Memanggil metode tambah dengan argumen: (2, 3, 5, 10)\n",
            "Hasil penjumlahan: 20\n",
            "\n",
            "Memanggil metode tambah dengan argumen: (100,)\n",
            "Hasil penjumlahan: 100\n",
            "\n",
            "Memanggil metode tambah dengan argumen: ()\n",
            "TIdak ada angka untuk dijumlahkan.\n",
            "\n",
            "Memanggil metode tambah dengan argumen: (1, 2, 'tiga', 4, 5.5)\n",
            "Peringatan: Argumen 'tiga' bukan angka dan akan diabaikan.\n",
            "Hasil penjumlahan (dengan beberapa inpput diabaikan) : 12.5.\n"
          ]
        }
      ]
    },
    {
      "cell_type": "markdown",
      "source": [
        "# Praktikum 04"
      ],
      "metadata": {
        "id": "rgvVPQS0bMi0"
      }
    },
    {
      "cell_type": "code",
      "source": [
        "class dataprocessor:\n",
        "  def __init__(self, processor_id):\n",
        "    self.processor_id = processor_id\n",
        "    print(f\"Data Processor {self.processor_id} siap.\")\n",
        "\n",
        "  def process(self, *args, **kwargs):\n",
        "    print(f\"\\n--- {self.processor_id} Memproses Data ---\")\n",
        "\n",
        "    if args:\n",
        "      print(\"Argumen Posisi DIterima: \")\n",
        "      for i , arg in enumerate(args):\n",
        "        print(f\"Argumen {i}: {arg} (tipe: {type(arg).__name__})\")\n",
        "      else:\n",
        "        print(\"Tidak ada argumen posisi\")\n",
        "\n",
        "    if kwargs:\n",
        "      print(\"Argumen Kata Kunci Diterima: \")\n",
        "      for kunci, nilai in kwargs.items():\n",
        "        print(f\"{kunci}: {nilai} (tipe: {type(nilai).__name__})\")\n",
        "    else:\n",
        "      print(\"Tidak ada argumen kata kunci.\")\n",
        "\n",
        "    print(\"=\" * 30)\n",
        "\n",
        "#--- Kode Utama ---\n",
        "\n",
        "if __name__ == \"__main__\":\n",
        "  processor1 = dataprocessor(\"DP-001\")\n",
        "\n",
        "  print(\"\\nPanggilan 1: Tanpa argumen tambahan\")\n",
        "  processor1.process()\n",
        "\n",
        "  print(\"\\nPanggilan 2: Hanya argumen posisi\")\n",
        "  processor1.process(100, \"Status OK\", 99.9, False)\n",
        "\n",
        "  print(\"\\nPanggilan 3: Hanya argumen kata kunci\")\n",
        "  processor1.process(user=\"admin\", level=5, mode=\"verbose\")\n",
        "\n",
        "  print(\"\\nPanggilan 4: Kombinasi argumen posisi dan kata kunci\")\n",
        "  processor1.process(\"Task-A\", \"Task-B\", status=\"Running\", priority=\"High\", thread_id=54321)\n",
        "\n",
        "\n",
        "  print(\"\\nPanggilan 5: Argumen posisi kompleks\")\n",
        "  list_ids = [\"A1\", \"B2\", \"C3\"]\n",
        "  dict_params = {\"timeout\": 30, \"retry\": 3}\n",
        "  processor1.process(list_ids, dict_params, owner=\"system\", enabled=True)"
      ],
      "metadata": {
        "id": "fNDxdva6bQ-e",
        "outputId": "839724a4-9660-42e5-e1ba-b6a0b7f8d40e",
        "colab": {
          "base_uri": "https://localhost:8080/"
        }
      },
      "execution_count": 23,
      "outputs": [
        {
          "output_type": "stream",
          "name": "stdout",
          "text": [
            "Data Processor DP-001 siap.\n",
            "\n",
            "Panggilan 1: Tanpa argumen tambahan\n",
            "\n",
            "--- DP-001 Memproses Data ---\n",
            "Tidak ada argumen kata kunci.\n",
            "==============================\n",
            "\n",
            "Panggilan 2: Hanya argumen posisi\n",
            "\n",
            "--- DP-001 Memproses Data ---\n",
            "Argumen Posisi DIterima: \n",
            "Argumen 0: 100 (tipe: int)\n",
            "Argumen 1: Status OK (tipe: str)\n",
            "Argumen 2: 99.9 (tipe: float)\n",
            "Argumen 3: False (tipe: bool)\n",
            "Tidak ada argumen posisi\n",
            "Tidak ada argumen kata kunci.\n",
            "==============================\n",
            "\n",
            "Panggilan 3: Hanya argumen kata kunci\n",
            "\n",
            "--- DP-001 Memproses Data ---\n",
            "Argumen Kata Kunci Diterima: \n",
            "user: admin (tipe: str)\n",
            "level: 5 (tipe: int)\n",
            "mode: verbose (tipe: str)\n",
            "==============================\n",
            "\n",
            "Panggilan 4: Kombinasi argumen posisi dan kata kunci\n",
            "\n",
            "--- DP-001 Memproses Data ---\n",
            "Argumen Posisi DIterima: \n",
            "Argumen 0: Task-A (tipe: str)\n",
            "Argumen 1: Task-B (tipe: str)\n",
            "Tidak ada argumen posisi\n",
            "Argumen Kata Kunci Diterima: \n",
            "status: Running (tipe: str)\n",
            "priority: High (tipe: str)\n",
            "thread_id: 54321 (tipe: int)\n",
            "==============================\n",
            "\n",
            "Panggilan 5: Argumen posisi kompleks\n",
            "\n",
            "--- DP-001 Memproses Data ---\n",
            "Argumen Posisi DIterima: \n",
            "Argumen 0: ['A1', 'B2', 'C3'] (tipe: list)\n",
            "Argumen 1: {'timeout': 30, 'retry': 3} (tipe: dict)\n",
            "Tidak ada argumen posisi\n",
            "Argumen Kata Kunci Diterima: \n",
            "owner: system (tipe: str)\n",
            "enabled: True (tipe: bool)\n",
            "==============================\n"
          ]
        }
      ]
    },
    {
      "cell_type": "markdown",
      "source": [
        "# Praktikum 05"
      ],
      "metadata": {
        "id": "j7KiiL26bRpx"
      }
    },
    {
      "cell_type": "code",
      "source": [
        "import math\n",
        "\n",
        "class bentuk:\n",
        "  def nama_bentuk(self):\n",
        "    return \"Bentuk Generik\"\n",
        "\n",
        "  def hitung_luas(self):\n",
        "    raise NotImplementedError(\"Subclass harus mengimplementasikan metode ini.\")\n",
        "\n",
        "class lingkaran(bentuk):\n",
        "  def __init__(self, radius):\n",
        "    self.radius = radius\n",
        "\n",
        "  def nama_bentuk(self):\n",
        "    return \"Lingkaran\"\n",
        "\n",
        "  def hitung_luas(self):\n",
        "    return math.pi * (self.radius ** 2)\n",
        "\n",
        "class persegi(bentuk):\n",
        "  def __init__(self, sisi):\n",
        "    self.sisi = sisi\n",
        "\n",
        "  def nama_bentuk(self):\n",
        "    return \"Persegi\"\n",
        "\n",
        "  def hitung_luas(self):\n",
        "    return self.sisi * self.sisi\n",
        "\n",
        "\n",
        "class taplakmeja:\n",
        "  def __init__(self, panjang, lebar):\n",
        "    self.panjang = panjang\n",
        "    self.lebar = lebar\n",
        "\n",
        "  def hitung_luas(self):\n",
        "    return self.panjang * self.lebar\n",
        "\n",
        "  def deskripsi(self):\n",
        "    return f\"Taplak Meja {self.panjang}X{self.lebar}\"\n",
        "\n",
        "\n",
        "def tampilkan_info_luas(objek_dengan_luas):\n",
        "  print(\"-\" * 20)\n",
        "  try:\n",
        "    luas = objek_dengan_luas.hitung_luas()\n",
        "    try:\n",
        "      nama = objek_dengan_luas.nama_bentuk()\n",
        "    except AttributeError:\n",
        "      nama = type(objek_dengan_luas). __name__\n",
        "\n",
        "    print(f\"Objek: {nama}\")\n",
        "    print(f\"Luas: {luas:.2f}\")\n",
        "\n",
        "  except AttributeError:\n",
        "    print(f\"Objek {type(objek_dengan_luas).__name__} tidak dapat dihitung luasnya (metode tidak dapat ditemukan).\")\n",
        "\n",
        "  except NotImplementedError:\n",
        "    print(f\"Metode 'hitung luas' belum diimplementasi untuk {type(objek_dengan_luas).__name__}.\")\n",
        "\n",
        "\n",
        "#--- Kode Utama ---\n",
        "\n",
        "if __name__ == \"__main__\":\n",
        "  lingkaran1 = lingkaran(7)\n",
        "  persegi1 = persegi(5)\n",
        "  taplak1 = taplakmeja(1.5, 0.8)\n",
        "  bentuk_dasar = bentuk()\n",
        "\n",
        "  string_biasa = \"Ini String\"\n",
        "\n",
        "  daftar_item = [lingkaran1, persegi1, taplak1, bentuk_dasar, string_biasa]\n",
        "\n",
        "  print(\"Menampilkan Info Luas (Polimorfisme Campuran): \")\n",
        "  for item in daftar_item:\n",
        "    tampilkan_info_luas(item)"
      ],
      "metadata": {
        "id": "VYzB4qyXbVpq",
        "outputId": "c0570b4e-db9d-497c-e960-0e8b644a4824",
        "colab": {
          "base_uri": "https://localhost:8080/"
        }
      },
      "execution_count": 24,
      "outputs": [
        {
          "output_type": "stream",
          "name": "stdout",
          "text": [
            "Menampilkan Info Luas (Polimorfisme Campuran): \n",
            "--------------------\n",
            "Objek: Lingkaran\n",
            "Luas: 153.94\n",
            "--------------------\n",
            "Objek: Persegi\n",
            "Luas: 25.00\n",
            "--------------------\n",
            "Objek: taplakmeja\n",
            "Luas: 1.20\n",
            "--------------------\n",
            "Metode 'hitung luas' belum diimplementasi untuk bentuk.\n",
            "--------------------\n",
            "Objek str tidak dapat dihitung luasnya (metode tidak dapat ditemukan).\n"
          ]
        }
      ]
    },
    {
      "cell_type": "markdown",
      "source": [
        "# Praktikum 06"
      ],
      "metadata": {
        "id": "_tHs0mdFbWZb"
      }
    },
    {
      "cell_type": "code",
      "source": [
        "class burung:\n",
        "  def __init__(self, nama):\n",
        "    self.nama = nama\n",
        "\n",
        "  def terbang(self):\n",
        "    print(f\"{self.nama} terbang dengan cara umum.\")\n",
        "\n",
        "  def bersuara(self):\n",
        "    print(f\"{self.nama} mengeluarkan suara burung.\")\n",
        "\n",
        "class elang(burung):\n",
        "  def __init__(self, nama, rentang_sayap):\n",
        "    super().__init__(nama)\n",
        "    self.rentang_sayap = rentang_sayap\n",
        "\n",
        "  def terbang(self):\n",
        "    print(f\"{self.nama} terbang tinggi melayang di angkasa.\")\n",
        "\n",
        "  def bersuara(self):\n",
        "    print(f\"{self.nama} berteriak nyaring!\")\n",
        "\n",
        "  def berburu(self):\n",
        "    print(f\"{self.nama} sedang mencari mangsa dari ketinggian.\")\n",
        "\n",
        "\n",
        "class pipit(burung):\n",
        "  def __init__(self, nama, warna_bulu):\n",
        "    super().__init__(nama)\n",
        "    self.warna_bulu = warna_bulu\n",
        "\n",
        "  def terbang(self):\n",
        "    print(f\"{self.nama} terbang cepat di antara pepohonan.\")\n",
        "\n",
        "  def bersuara(self):\n",
        "    print(f\"{self.nama} berkicau merdu: Cit Cit!!\")\n",
        "\n",
        "  def membangun_sarang(self):\n",
        "    print(f\"{self.nama} sedang mengumpulakn ranting untuk sarang\")\n",
        "\n",
        "def interaksi_dengan_burung(Burung):\n",
        "  print(f\"\\n--- Berinteraksi dengan {type(burung).__name__}: {getattr(burung, 'nama', 'Objek tidak dikenal')} ---\")\n",
        "\n",
        "  if isinstance(Burung, burung):\n",
        "    Burung.terbang()\n",
        "    Burung.bersuara()\n",
        "\n",
        "    if isinstance(Burung, elang):\n",
        "      print(\"-> Ini adalah Elang!\")\n",
        "      Burung.berburu()\n",
        "    elif isinstance(Burung, pipit):\n",
        "      print(\"-> Ini adalah Pipit!\")\n",
        "      Burung.membangun_sarang()\n",
        "    else:\n",
        "      print(\"-> Ini adalah burung umum.\")\n",
        "\n",
        "  else:\n",
        "    print(\"Objek ini bukan termasuk jenis Burung.\")\n",
        "  print(\"-\" * 20)\n",
        "\n",
        "\n",
        "#--- Kode Utama ---\n",
        "\n",
        "if __name__ == \"__main__\":\n",
        "  elang_sumatra = elang(\"Elang Sumatra\", 1.8)\n",
        "  pipit_rumah = pipit(\"Pipit Rumah\", \"Abu-abu\")\n",
        "  merak = burung(\"Merak\")\n",
        "  kucing_tetangga = \"Meong\"\n",
        "\n",
        "  koleksi_makhluk = [elang_sumatra, pipit_rumah, merak, kucing_tetangga]\n",
        "\n",
        "  for makhluk in koleksi_makhluk:\n",
        "    interaksi_dengan_burung(makhluk)"
      ],
      "metadata": {
        "id": "sp-4ERnvbdZe",
        "outputId": "2c60c7e5-4cea-40a0-d3bd-214972c51fa4",
        "colab": {
          "base_uri": "https://localhost:8080/"
        }
      },
      "execution_count": 25,
      "outputs": [
        {
          "output_type": "stream",
          "name": "stdout",
          "text": [
            "\n",
            "--- Berinteraksi dengan type: Objek tidak dikenal ---\n",
            "Elang Sumatra terbang tinggi melayang di angkasa.\n",
            "Elang Sumatra berteriak nyaring!\n",
            "-> Ini adalah Elang!\n",
            "Elang Sumatra sedang mencari mangsa dari ketinggian.\n",
            "--------------------\n",
            "\n",
            "--- Berinteraksi dengan type: Objek tidak dikenal ---\n",
            "Pipit Rumah terbang cepat di antara pepohonan.\n",
            "Pipit Rumah berkicau merdu: Cit Cit!!\n",
            "-> Ini adalah Pipit!\n",
            "Pipit Rumah sedang mengumpulakn ranting untuk sarang\n",
            "--------------------\n",
            "\n",
            "--- Berinteraksi dengan type: Objek tidak dikenal ---\n",
            "Merak terbang dengan cara umum.\n",
            "Merak mengeluarkan suara burung.\n",
            "-> Ini adalah burung umum.\n",
            "--------------------\n",
            "\n",
            "--- Berinteraksi dengan type: Objek tidak dikenal ---\n",
            "Objek ini bukan termasuk jenis Burung.\n",
            "--------------------\n"
          ]
        }
      ]
    }
  ]
}