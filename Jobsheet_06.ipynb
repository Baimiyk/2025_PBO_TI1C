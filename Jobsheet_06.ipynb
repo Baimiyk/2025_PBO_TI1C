{
  "nbformat": 4,
  "nbformat_minor": 0,
  "metadata": {
    "colab": {
      "provenance": [],
      "authorship_tag": "ABX9TyPScms7fvRRiPsPoxVNU7fx",
      "include_colab_link": true
    },
    "kernelspec": {
      "name": "python3",
      "display_name": "Python 3"
    },
    "language_info": {
      "name": "python"
    }
  },
  "cells": [
    {
      "cell_type": "markdown",
      "metadata": {
        "id": "view-in-github",
        "colab_type": "text"
      },
      "source": [
        "<a href=\"https://colab.research.google.com/github/Baimiyk/2025_PBO_TI1C/blob/main/Jobsheet_06.ipynb\" target=\"_parent\"><img src=\"https://colab.research.google.com/assets/colab-badge.svg\" alt=\"Open In Colab\"/></a>"
      ]
    },
    {
      "cell_type": "markdown",
      "source": [
        "# Praktikum 01"
      ],
      "metadata": {
        "id": "lFF70oCe3ler"
      }
    },
    {
      "cell_type": "code",
      "execution_count": 1,
      "metadata": {
        "id": "w5nnd7J_3Ri2",
        "outputId": "7d4d5daf-59ba-468e-ed44-dec7d77e81cd",
        "colab": {
          "base_uri": "https://localhost:8080/"
        }
      },
      "outputs": [
        {
          "output_type": "stream",
          "name": "stdout",
          "text": [
            "Definisi Kelas Abstrack 'KendaraanAbstract' selesai.\n",
            "\n",
            "COntoh definisi anak 'Mobil' selesai.\n",
            "Inisialisasi KendaraanAbstrack dengan merk: Toyota\n",
            "Merk kendaraan ini adalah Toyota.\n",
            "Mesin mobil Toyota dinyalakan.\n",
            "Mesin mobil Toyota dimatikan.\n"
          ]
        }
      ],
      "source": [
        "from abc import ABC, abstractmethod\n",
        "\n",
        "class KendaraanAbstrack(ABC) :\n",
        "\n",
        "  def __init__(self, merk) :\n",
        "    self.merk = merk\n",
        "    print(f\"Inisialisasi KendaraanAbstrack dengan merk: {self.merk}\")\n",
        "\n",
        "  def info_merk(self) :\n",
        "    print(f\"Merk kendaraan ini adalah {self.merk}.\")\n",
        "\n",
        "\n",
        "  @abstractmethod\n",
        "  def start_mesin(self):\n",
        "    print(f\"Mesin mobil {self.merk} dinyalakan.\")\n",
        "\n",
        "  def stop_mesin(self) :\n",
        "    print(f\"Mesin mobil {self.merk} dimatikan.\")\n",
        "\n",
        "# --- Kode Utama ---\n",
        "\n",
        "if __name__ == \"__main__\":\n",
        "  print(\"Definisi Kelas Abstrack 'KendaraanAbstract' selesai.\")\n",
        "\n",
        "  class Mobil(KendaraanAbstrack):\n",
        "    def start_mesin(self):\n",
        "      print(f\"Mesin mobil {self.merk} dinyalakan.\")\n",
        "\n",
        "    def stop_mesin(self):\n",
        "      print(f\"Mesin mobil {self.merk} dimatikan.\")\n",
        "\n",
        "  print(\"\\nCOntoh definisi anak 'Mobil' selesai.\")\n",
        "\n",
        "  mobil_contoh = Mobil(\"Toyota\")\n",
        "  mobil_contoh.info_merk()\n",
        "  mobil_contoh.start_mesin()\n",
        "  mobil_contoh.stop_mesin()"
      ]
    },
    {
      "cell_type": "markdown",
      "source": [
        "# Praktikum 02"
      ],
      "metadata": {
        "id": "LW484aqc3nzt"
      }
    },
    {
      "cell_type": "code",
      "source": [
        "from abc import ABC, abstractmethod\n",
        "\n",
        "class MediaAbstrak(ABC) :\n",
        "  def __init__(self, judul) :\n",
        "    self.judul = judul\n",
        "    print(f\"Inisialisasi MediaAbstrak dengan judul: {self.judul}\")\n",
        "\n",
        "  @abstractmethod\n",
        "  def play(self):\n",
        "    pass\n",
        "\n",
        "  @abstractmethod\n",
        "  def stop(self):\n",
        "    pass\n",
        "\n",
        "# --- Kode Utama ---\n",
        "\n",
        "if __name__ == \"__main__\":\n",
        "  print(\"Mencoba membuat objek dari kelas abstrak MediaAbstrak.....\")\n",
        "\n",
        "  try:\n",
        "    media = MediaAbstrak(\"Konten Abstrack\")\n",
        "\n",
        "    print(\"Objek berhasi dibuat (SEHARUSNYA TIDAK TERJDAI).\")\n",
        "    media.play()\n",
        "\n",
        "  except TypeError as e:\n",
        "    print(f\"\\nGAGAL membuat objek!\")\n",
        "    print(f\"Error yang munvul (sesuai harapan): {e}\")\n",
        "    print(f\"\\nIni membuktikan bahwa kelas abstrak tidak bisa diinstansi\")\n",
        "    print(\"jika masih memiliki metode abstrak yang belum diimplementasikan.\")"
      ],
      "metadata": {
        "id": "dZg7FHYS3s85",
        "outputId": "ae17b302-0f4b-42a0-fa63-37fdc1ee3114",
        "colab": {
          "base_uri": "https://localhost:8080/"
        }
      },
      "execution_count": 2,
      "outputs": [
        {
          "output_type": "stream",
          "name": "stdout",
          "text": [
            "Mencoba membuat objek dari kelas abstrak MediaAbstrak.....\n",
            "\n",
            "GAGAL membuat objek!\n",
            "Error yang munvul (sesuai harapan): Can't instantiate abstract class MediaAbstrak with abstract methods play, stop\n",
            "\n",
            "Ini membuktikan bahwa kelas abstrak tidak bisa diinstansi\n",
            "jika masih memiliki metode abstrak yang belum diimplementasikan.\n"
          ]
        }
      ]
    },
    {
      "cell_type": "markdown",
      "source": [
        "# Praktikum 03"
      ],
      "metadata": {
        "id": "AdXgpr373tfI"
      }
    },
    {
      "cell_type": "code",
      "source": [
        "from abc import ABC, abstractmethod\n",
        "import locale\n",
        "import random\n",
        "\n",
        "try:\n",
        "  locale.setlocale(locale.LC_ALL, 'id_ID.UTF-8')\n",
        "except locale.Error:\n",
        "  print(\"Locale id_ID.UTF-8 tidak tersedia, gunakan locale default.\")\n",
        "\n",
        "def format_rupiah(angka):\n",
        "   try:\n",
        "        # Coba format menggunakan locale jika tersedia\n",
        "        formatted = locale.currency(angka, grouping=True, symbol='Rp ')\n",
        "        return formatted\n",
        "   except Exception:\n",
        "        # Jika gagal (misalnya locale tidak diset atau tidak tersedia), fallback manual\n",
        "        return f\"Rp {angka:,.0f}\".replace(',', '.')\n",
        "\n",
        "class AlatPembayaranAbstrak(ABC):\n",
        "  def __init__(self, nama_metode):\n",
        "    self.nama_metode = nama_metode\n",
        "    print(f\"Inisialisasi alat pembayaran: {self.nama_metode}\")\n",
        "\n",
        "  def info(self):\n",
        "    print(f\"Metode Pembayaran: {self.nama_metode}\")\n",
        "\n",
        "  @abstractmethod\n",
        "  def proses_pembayaran(self, jumlah):\n",
        "    pass\n",
        "\n",
        "class KartuKredit(AlatPembayaranAbstrak):\n",
        "  def __init__(self, nama_pemilik, nomor_kartu):\n",
        "    super().__init__(\"Kartu Kredit\")\n",
        "    self.nomor_kartu = nomor_kartu[-4:]\n",
        "    self.nama_pemilik = nama_pemilik\n",
        "    print(f\"   -> Kartu Kredit ************{self.nomor_kartu}({self.nama_pemilik}) siap.\")\n",
        "\n",
        "  def proses_pembayaran(self, jumlah):\n",
        "    print(f\"  Memproses pembayaran {format_rupiah(jumlah)} via Kartu Kredit ************{self.nomor_kartu}....\")\n",
        "    berhasil = random.choice([True, False])\n",
        "    if berhasil:\n",
        "      print(\"  Pembayaran Kartu Kredit Berhasil.\")\n",
        "      return True\n",
        "    else:\n",
        "      print(\"  Pembayaran Kartu Kredit Gagal (Limit tidak cukup/Error).\")\n",
        "      return False\n",
        "\n",
        "class DompetDigital(AlatPembayaranAbstrak):\n",
        "  def __init__(self, nomor_telepon, nama_provider):\n",
        "    super().__init__(f\"Dompet Digital ({nama_provider})\")\n",
        "    self.nomor_telepon = nomor_telepon\n",
        "    self.saldo = random.randint(50000, 500000)\n",
        "    print(f\"   -> Dompet Digital {self.nomor_telepon} siap (saldo: {format_rupiah(self.saldo)}).\")\n",
        "\n",
        "  def proses_pembayaran(self, jumlah):\n",
        "    print(f\"  Memproses pembayaran {format_rupiah(jumlah)} via Dompet Digital {self.nomor_telepon}....\")\n",
        "    if jumlah <= self.saldo:\n",
        "      self.saldo -= jumlah\n",
        "      print(\"  Pembayaran Dompet Digital Berhasil.\")\n",
        "      print(f\"  Saldo Tersisa: {format_rupiah(self.saldo)}.\")\n",
        "      return True\n",
        "\n",
        "    else:\n",
        "      print(\"  Pembayaran Dompet Digital Gagal (Saldo tidak mencukupi).\")\n",
        "      print(f\"  Saldo saat ini: {format_rupiah(self.saldo)}\")\n",
        "      return False\n",
        "\n",
        "\n",
        "# --- Kode Utama ---\n",
        "if __name__ == \"__main__\":\n",
        "  print(\"\\nMembuat Objek Alat Pembayaran....\")\n",
        "  kartu_bca = KartuKredit(\"1234-5678-9012-3456\", \"Budi Cahyono\")\n",
        "  gopay = DompetDigital(\"081234567890\", \"GoPay\")\n",
        "\n",
        "  print(\"\\nMelakukan Pembayaran: \")\n",
        "  print(\"\\nMencoba bayar dengan Kartu Kredit: \")\n",
        "  kartu_bca.info()\n",
        "  status_kk = kartu_bca.proses_pembayaran(150000)\n",
        "  print(f\"Status Transaksi KK: {'Sukses' if status_kk else 'Gagal'}\")\n",
        "\n",
        "  print(\"\\nMencoba bayar dengan GoPay (Jumlah Kecil):\")\n",
        "  gopay.info()\n",
        "  status_gopay1 = gopay.proses_pembayaran(75000)\n",
        "  print(f\"Status Transaksi GoPay: {'Sukses' if status_gopay1 else 'Gagal'}\")\n",
        "\n",
        "  print(\"\\nMencoba bayar dengan GoPay (Jumlah Besar):\")\n",
        "  gopay.info()\n",
        "  status_gopay2 = gopay.proses_pembayaran(1000000)\n",
        "  print(f\"  Status Transaksi Gopay 2: {'Sukses' if status_gopay2 else 'Gagal'}\")"
      ],
      "metadata": {
        "id": "_hPlP2uI3vfy",
        "colab": {
          "base_uri": "https://localhost:8080/"
        },
        "outputId": "794b1ecb-6bd7-4d9b-fb76-a9f87704f229"
      },
      "execution_count": 3,
      "outputs": [
        {
          "output_type": "stream",
          "name": "stdout",
          "text": [
            "Locale id_ID.UTF-8 tidak tersedia, gunakan locale default.\n",
            "\n",
            "Membuat Objek Alat Pembayaran....\n",
            "Inisialisasi alat pembayaran: Kartu Kredit\n",
            "   -> Kartu Kredit ************yono(1234-5678-9012-3456) siap.\n",
            "Inisialisasi alat pembayaran: Dompet Digital (GoPay)\n",
            "   -> Dompet Digital 081234567890 siap (saldo: Rp 50.610).\n",
            "\n",
            "Melakukan Pembayaran: \n",
            "\n",
            "Mencoba bayar dengan Kartu Kredit: \n",
            "Metode Pembayaran: Kartu Kredit\n",
            "  Memproses pembayaran Rp 150.000 via Kartu Kredit ************yono....\n",
            "  Pembayaran Kartu Kredit Gagal (Limit tidak cukup/Error).\n",
            "Status Transaksi KK: Gagal\n",
            "\n",
            "Mencoba bayar dengan GoPay (Jumlah Kecil):\n",
            "Metode Pembayaran: Dompet Digital (GoPay)\n",
            "  Memproses pembayaran Rp 75.000 via Dompet Digital 081234567890....\n",
            "  Pembayaran Dompet Digital Gagal (Saldo tidak mencukupi).\n",
            "  Saldo saat ini: Rp 50.610\n",
            "Status Transaksi GoPay: Gagal\n",
            "\n",
            "Mencoba bayar dengan GoPay (Jumlah Besar):\n",
            "Metode Pembayaran: Dompet Digital (GoPay)\n",
            "  Memproses pembayaran Rp 1.000.000 via Dompet Digital 081234567890....\n",
            "  Pembayaran Dompet Digital Gagal (Saldo tidak mencukupi).\n",
            "  Saldo saat ini: Rp 50.610\n",
            "  Status Transaksi Gopay 2: Gagal\n"
          ]
        }
      ]
    },
    {
      "cell_type": "markdown",
      "source": [
        "# Praktkum 04"
      ],
      "metadata": {
        "id": "zPI6IzD-3vs1"
      }
    },
    {
      "cell_type": "code",
      "source": [
        "from abc import ABC, abstractmethod\n",
        "import time\n",
        "\n",
        "class DokumenAbstrak(ABC):\n",
        "  def __init__(self, nama_file):\n",
        "    self.nama_file = nama_file\n",
        "    print(f\"Inisialisasi Dokumen: {self.nama_file}\")\n",
        "\n",
        "  def info_file(self):\n",
        "    print(f\"Nama File: {self.nama_file}\")\n",
        "\n",
        "  @abstractmethod\n",
        "  def cetak(self):\n",
        "    pass\n",
        "\n",
        "class DokumenTeks(DokumenAbstrak):\n",
        "  def __init__(self, nama_file, isi_teks):\n",
        "    super().__init__(nama_file)\n",
        "    self.isi_teks = isi_teks\n",
        "    print(\"  -> TIpe: Dokumen Teks\")\n",
        "\n",
        "  def cetak(self):\n",
        "    print(f\"Mencetak Dokumen Teks '{self.nama_file}': \")\n",
        "    print(\"=\"*15)\n",
        "    print(self.isi_teks)\n",
        "    print(\"=\"*15)\n",
        "\n",
        "  def simpan(self):\n",
        "    print(f\"Menyimpan Dokumen Teks '{self.nama_file}' ke disk...\")\n",
        "    time.sleep(0.2)\n",
        "    print(\"  -> Berhasil disimpan.\")\n",
        "\n",
        "class Spreadsheet(DokumenAbstrak):\n",
        "  def __init__(self, nama_file, jumlah_baris, jumlah_kolom):\n",
        "    super().__init__(nama_file)\n",
        "    self.baris = jumlah_baris\n",
        "    self.kolom = jumlah_kolom\n",
        "    print(\"  -> Tipe: Spreadsheet\")\n",
        "\n",
        "  def cetak(self):\n",
        "    print(f\"Mencetak Spreadsheet '{self.nama_file}' ({self.baris}x{self.kolom})...\")\n",
        "    print(\"  (Menampilkan pratinjau...)\")\n",
        "\n",
        "  def simpan(self):\n",
        "    print(f\"Menyimpan Spreadsheet '{self.nama_file}' ke format .xlsx...\")\n",
        "    time.sleep(0.3)\n",
        "    print(\"  -> Berhasil disimpan.\")\n",
        "\n",
        "\n",
        "def proses_dokumen(daftar_dokumen):\n",
        "  print(\"\\n====== MEMPROSES SEMUA DOKUMEN ======\")\n",
        "  for doc in daftar_dokumen:\n",
        "    print(f\"\\n--- Memproses {type(doc).__name__}: {doc.nama_file} ---\")\n",
        "\n",
        "    try:\n",
        "      doc.cetak()\n",
        "      doc.simpan()\n",
        "    except Exception as e:\n",
        "      print(f\"  Error saat memproses {doc.nama_file}: {e}\")\n",
        "\n",
        "  print(\"\\n====== SELESAI MEMPROSES DOKUMEN ======\")\n",
        "\n",
        "# --- Kode utama ---\n",
        "if __name__ == \"__main__\":\n",
        "  print(\"Membuat dokumen...\")\n",
        "  dok1 = DokumenTeks(\"laporan.txt\", \"Ini adalah isi laporan singkat.\")\n",
        "  dok2 = Spreadsheet(\"data_Penjualan.xlsx\", 200, 15)\n",
        "  dok3 = DokumenTeks(\"Catatan_rapat.txt\", \"Poin penting:\\n- Bahas budget\\n- Tentukan timeline\")\n",
        "\n",
        "  koleksi_dokumen = [dok1, dok2 ,dok3]\n",
        "\n",
        "  proses_dokumen(koleksi_dokumen)"
      ],
      "metadata": {
        "id": "y5mAmA6b3yxo",
        "outputId": "2e86269f-539c-4037-f01f-7bd7592d90e7",
        "colab": {
          "base_uri": "https://localhost:8080/"
        }
      },
      "execution_count": 6,
      "outputs": [
        {
          "output_type": "stream",
          "name": "stdout",
          "text": [
            "Membuat dokumen...\n",
            "Inisialisasi Dokumen: laporan.txt\n",
            "  -> TIpe: Dokumen Teks\n",
            "Inisialisasi Dokumen: data_Penjualan.xlsx\n",
            "  -> Tipe: Spreadsheet\n",
            "Inisialisasi Dokumen: Catatan_rapat.txt\n",
            "  -> TIpe: Dokumen Teks\n",
            "\n",
            "====== MEMPROSES SEMUA DOKUMEN ======\n",
            "\n",
            "--- Memproses DokumenTeks: laporan.txt ---\n",
            "Mencetak Dokumen Teks 'laporan.txt': \n",
            "===============\n",
            "Ini adalah isi laporan singkat.\n",
            "===============\n",
            "Menyimpan Dokumen Teks 'laporan.txt' ke disk...\n",
            "  -> Berhasil disimpan.\n",
            "\n",
            "--- Memproses Spreadsheet: data_Penjualan.xlsx ---\n",
            "Mencetak Spreadsheet 'data_Penjualan.xlsx' (200x15)...\n",
            "  (Menampilkan pratinjau...)\n",
            "Menyimpan Spreadsheet 'data_Penjualan.xlsx' ke format .xlsx...\n",
            "  -> Berhasil disimpan.\n",
            "\n",
            "--- Memproses DokumenTeks: Catatan_rapat.txt ---\n",
            "Mencetak Dokumen Teks 'Catatan_rapat.txt': \n",
            "===============\n",
            "Poin penting:\n",
            "- Bahas budget\n",
            "- Tentukan timeline\n",
            "===============\n",
            "Menyimpan Dokumen Teks 'Catatan_rapat.txt' ke disk...\n",
            "  -> Berhasil disimpan.\n",
            "\n",
            "====== SELESAI MEMPROSES DOKUMEN ======\n"
          ]
        }
      ]
    },
    {
      "cell_type": "markdown",
      "source": [
        "# Praktikum 05"
      ],
      "metadata": {
        "id": "5eXPNp-k36gw"
      }
    },
    {
      "cell_type": "code",
      "source": [
        "from abc import ABC, abstractmethod\n",
        "import math\n",
        "\n",
        "class BangunDatarAbstrak(ABC):\n",
        "  def __init__(self, nama):\n",
        "    self.nama = nama\n",
        "    print(f\"Inisialisasi BangunDatarAbstrak: {self.nama}\")\n",
        "\n",
        "  @property\n",
        "  def nama(Self):\n",
        "    return self._nama\n",
        "\n",
        "  def info_lengkap(self):\n",
        "    print(f\"\\n--- Info Lengkap: {self.nama} ---\")\n",
        "    try:\n",
        "      luas = self.hitung_luas()\n",
        "      print(f\"  Luas   : {luas: 2f}\")\n",
        "    except NotImplementedError:\n",
        "      print(\"  Luas   : Belum Diimplementasikan.\")\n",
        "    except Exception as e:\n",
        "      print(f\"  Luas   : Error ({e})\")\n",
        "\n",
        "    try:\n",
        "      keliling = self.hitung_keliling()\n",
        "      print(f\"  Keliling   : {keliling: 2f}\")\n",
        "    except NotImplementedError:\n",
        "      print(\"  Keliling   : Belum Diimplementasikan.\")\n",
        "    except Exception as e:\n",
        "      print(f\"  Keliling   : Error ({e})\")\n",
        "    print(\"-\" * (len(self.nama) + 18))\n",
        "\n",
        "\n",
        "  @abstractmethod\n",
        "  def hitung_luas(self):\n",
        "    pass\n",
        "\n",
        "  @abstractmethod\n",
        "  def hitung_keliling(self):\n",
        "    pass\n",
        "\n",
        "class Lingkaran(BangunDatarAbstrak):\n",
        "  def __init__(self, radius):\n",
        "    super().__init__(\"Lingkaran\")\n",
        "    if radius < 0 :\n",
        "      raise ValueError(\"Radius tidak boleh negatif.\")\n",
        "    self.radius = radius\n",
        "    print(f\"  -> Lingkaran dibuat (Radius: {self.radius}).\")\n",
        "\n",
        "  def hitung_luas(Self):\n",
        "    return math.pi * (self.radius ** 2)\n",
        "\n",
        "  def hitung_keliling(self):\n",
        "    return 2 * math.pi * self.radius\n",
        "\n",
        "# --- Kode Utama ---\n",
        "if __name__ == \"__main__\":\n",
        "  print(\"Membuat objek Lingkaran...\")\n",
        "  lingakran_A = Lingkaran(10)\n",
        "\n",
        "  print(f\"\\nNama bangun (via property): {lingakran_A.nama}\")\n",
        "\n",
        "  lingakran_A.info_lengkap()\n",
        "\n",
        "  luas = lingakran_A.hitung_luas()\n",
        "  keliling = lingakran_A.hitung_keliling()\n",
        "\n",
        "  print(f\"\\nLuas langsung: {luas: 2f}, Keliling langsung: {keliling: 2f}\")"
      ],
      "metadata": {
        "id": "l-AoNf3l38-A",
        "outputId": "bd51b7ca-ef60-4110-f494-0bf65d07db45",
        "colab": {
          "base_uri": "https://localhost:8080/",
          "height": 374
        }
      },
      "execution_count": 10,
      "outputs": [
        {
          "output_type": "stream",
          "name": "stdout",
          "text": [
            "Membuat objek Lingkaran...\n"
          ]
        },
        {
          "output_type": "error",
          "ename": "AttributeError",
          "evalue": "property 'nama' of 'Lingkaran' object has no setter",
          "traceback": [
            "\u001b[0;31m---------------------------------------------------------------------------\u001b[0m",
            "\u001b[0;31mAttributeError\u001b[0m                            Traceback (most recent call last)",
            "\u001b[0;32m<ipython-input-10-250faa617a63>\u001b[0m in \u001b[0;36m<cell line: 0>\u001b[0;34m()\u001b[0m\n\u001b[1;32m     56\u001b[0m \u001b[0;32mif\u001b[0m \u001b[0m__name__\u001b[0m \u001b[0;34m==\u001b[0m \u001b[0;34m\"__main__\"\u001b[0m\u001b[0;34m:\u001b[0m\u001b[0;34m\u001b[0m\u001b[0;34m\u001b[0m\u001b[0m\n\u001b[1;32m     57\u001b[0m   \u001b[0mprint\u001b[0m\u001b[0;34m(\u001b[0m\u001b[0;34m\"Membuat objek Lingkaran...\"\u001b[0m\u001b[0;34m)\u001b[0m\u001b[0;34m\u001b[0m\u001b[0;34m\u001b[0m\u001b[0m\n\u001b[0;32m---> 58\u001b[0;31m   \u001b[0mlingakran_A\u001b[0m \u001b[0;34m=\u001b[0m \u001b[0mLingkaran\u001b[0m\u001b[0;34m(\u001b[0m\u001b[0;36m10\u001b[0m\u001b[0;34m)\u001b[0m\u001b[0;34m\u001b[0m\u001b[0;34m\u001b[0m\u001b[0m\n\u001b[0m\u001b[1;32m     59\u001b[0m \u001b[0;34m\u001b[0m\u001b[0m\n\u001b[1;32m     60\u001b[0m   \u001b[0mprint\u001b[0m\u001b[0;34m(\u001b[0m\u001b[0;34mf\"\\nNama bangun (via property): {lingakran_A.nama}\"\u001b[0m\u001b[0;34m)\u001b[0m\u001b[0;34m\u001b[0m\u001b[0;34m\u001b[0m\u001b[0m\n",
            "\u001b[0;32m<ipython-input-10-250faa617a63>\u001b[0m in \u001b[0;36m__init__\u001b[0;34m(self, radius)\u001b[0m\n\u001b[1;32m     41\u001b[0m \u001b[0;32mclass\u001b[0m \u001b[0mLingkaran\u001b[0m\u001b[0;34m(\u001b[0m\u001b[0mBangunDatarAbstrak\u001b[0m\u001b[0;34m)\u001b[0m\u001b[0;34m:\u001b[0m\u001b[0;34m\u001b[0m\u001b[0;34m\u001b[0m\u001b[0m\n\u001b[1;32m     42\u001b[0m   \u001b[0;32mdef\u001b[0m \u001b[0m__init__\u001b[0m\u001b[0;34m(\u001b[0m\u001b[0mself\u001b[0m\u001b[0;34m,\u001b[0m \u001b[0mradius\u001b[0m\u001b[0;34m)\u001b[0m\u001b[0;34m:\u001b[0m\u001b[0;34m\u001b[0m\u001b[0;34m\u001b[0m\u001b[0m\n\u001b[0;32m---> 43\u001b[0;31m     \u001b[0msuper\u001b[0m\u001b[0;34m(\u001b[0m\u001b[0;34m)\u001b[0m\u001b[0;34m.\u001b[0m\u001b[0m__init__\u001b[0m\u001b[0;34m(\u001b[0m\u001b[0;34m\"Lingkaran\"\u001b[0m\u001b[0;34m)\u001b[0m\u001b[0;34m\u001b[0m\u001b[0;34m\u001b[0m\u001b[0m\n\u001b[0m\u001b[1;32m     44\u001b[0m     \u001b[0;32mif\u001b[0m \u001b[0mradius\u001b[0m \u001b[0;34m<\u001b[0m \u001b[0;36m0\u001b[0m \u001b[0;34m:\u001b[0m\u001b[0;34m\u001b[0m\u001b[0;34m\u001b[0m\u001b[0m\n\u001b[1;32m     45\u001b[0m       \u001b[0;32mraise\u001b[0m \u001b[0mValueError\u001b[0m\u001b[0;34m(\u001b[0m\u001b[0;34m\"Radius tidak boleh negatif.\"\u001b[0m\u001b[0;34m)\u001b[0m\u001b[0;34m\u001b[0m\u001b[0;34m\u001b[0m\u001b[0m\n",
            "\u001b[0;32m<ipython-input-10-250faa617a63>\u001b[0m in \u001b[0;36m__init__\u001b[0;34m(self, nama)\u001b[0m\n\u001b[1;32m      4\u001b[0m \u001b[0;32mclass\u001b[0m \u001b[0mBangunDatarAbstrak\u001b[0m\u001b[0;34m(\u001b[0m\u001b[0mABC\u001b[0m\u001b[0;34m)\u001b[0m\u001b[0;34m:\u001b[0m\u001b[0;34m\u001b[0m\u001b[0;34m\u001b[0m\u001b[0m\n\u001b[1;32m      5\u001b[0m   \u001b[0;32mdef\u001b[0m \u001b[0m__init__\u001b[0m\u001b[0;34m(\u001b[0m\u001b[0mself\u001b[0m\u001b[0;34m,\u001b[0m \u001b[0mnama\u001b[0m\u001b[0;34m)\u001b[0m\u001b[0;34m:\u001b[0m\u001b[0;34m\u001b[0m\u001b[0;34m\u001b[0m\u001b[0m\n\u001b[0;32m----> 6\u001b[0;31m     \u001b[0mself\u001b[0m\u001b[0;34m.\u001b[0m\u001b[0mnama\u001b[0m \u001b[0;34m=\u001b[0m \u001b[0mnama\u001b[0m\u001b[0;34m\u001b[0m\u001b[0;34m\u001b[0m\u001b[0m\n\u001b[0m\u001b[1;32m      7\u001b[0m     \u001b[0mprint\u001b[0m\u001b[0;34m(\u001b[0m\u001b[0;34mf\"Inisialisasi BangunDatarAbstrak: {self.nama}\"\u001b[0m\u001b[0;34m)\u001b[0m\u001b[0;34m\u001b[0m\u001b[0;34m\u001b[0m\u001b[0m\n\u001b[1;32m      8\u001b[0m \u001b[0;34m\u001b[0m\u001b[0m\n",
            "\u001b[0;31mAttributeError\u001b[0m: property 'nama' of 'Lingkaran' object has no setter"
          ]
        }
      ]
    },
    {
      "cell_type": "markdown",
      "source": [
        "# Praktikum 06"
      ],
      "metadata": {
        "id": "EZ0EXCr23_V0"
      }
    },
    {
      "cell_type": "code",
      "source": [],
      "metadata": {
        "id": "YWo_-DWU4CN5"
      },
      "execution_count": 3,
      "outputs": []
    },
    {
      "cell_type": "markdown",
      "source": [
        "# **TUGAS**"
      ],
      "metadata": {
        "id": "hvsXoNFV4Fjv"
      }
    },
    {
      "cell_type": "code",
      "source": [],
      "metadata": {
        "id": "fWiLTOg84HbK"
      },
      "execution_count": 3,
      "outputs": []
    }
  ]
}