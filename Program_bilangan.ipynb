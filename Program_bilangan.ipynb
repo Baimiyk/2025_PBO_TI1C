{
  "nbformat": 4,
  "nbformat_minor": 0,
  "metadata": {
    "colab": {
      "provenance": [],
      "authorship_tag": "ABX9TyPlsxeHXzcaBkpbhE91/rgH",
      "include_colab_link": true
    },
    "kernelspec": {
      "name": "python3",
      "display_name": "Python 3"
    },
    "language_info": {
      "name": "python"
    }
  },
  "cells": [
    {
      "cell_type": "markdown",
      "metadata": {
        "id": "view-in-github",
        "colab_type": "text"
      },
      "source": [
        "<a href=\"https://colab.research.google.com/github/Baimiyk/2025_PBO_TI1C/blob/main/Program_bilangan.ipynb\" target=\"_parent\"><img src=\"https://colab.research.google.com/assets/colab-badge.svg\" alt=\"Open In Colab\"/></a>"
      ]
    },
    {
      "cell_type": "code",
      "execution_count": 3,
      "metadata": {
        "id": "FBa3bxdt2TvY",
        "outputId": "ff7d70ae-806e-40cc-b13a-7510a06bb01a",
        "colab": {
          "base_uri": "https://localhost:8080/"
        }
      },
      "outputs": [
        {
          "output_type": "stream",
          "name": "stdout",
          "text": [
            "====Program Bilangan====\n",
            "\n",
            "Masukkan bilangan: 7\n",
            "7 adalah bilangan Ganjil.\n",
            "7 juga merupakan bilangan Prima.\n",
            "Cek bilangan lain? (Y/N): n\n",
            "Terima kasih telah menggunakan program ini!\n"
          ]
        }
      ],
      "source": [
        "def is_prime(n):\n",
        "    \"\"\"Fungsi untuk mengecek apakah n adalah bilangan prima.\"\"\"\n",
        "    if n < 2:\n",
        "        return False\n",
        "    for i in range(2, int(n ** 0.5) + 1):\n",
        "        if n % i == 0:\n",
        "            return False\n",
        "    return True\n",
        "\n",
        "while True:\n",
        "    try:\n",
        "        print(\"====Program Bilangan====\\n\")\n",
        "        angka = int(input(\"Masukkan bilangan: \"))\n",
        "\n",
        "        # Cek Genap atau Ganjil\n",
        "        if angka % 2 == 0:\n",
        "            print(f\"{angka} adalah bilangan Genap.\")\n",
        "        else:\n",
        "            print(f\"{angka} adalah bilangan Ganjil.\")\n",
        "\n",
        "        # Cek Prima\n",
        "        if is_prime(angka):\n",
        "            print(f\"{angka} juga merupakan bilangan Prima.\")\n",
        "        else:\n",
        "            print(f\"{angka} bukan bilangan Prima.\")\n",
        "\n",
        "    except ValueError:\n",
        "        print(\"Input tidak valid! Masukkan bilangan bulat.\")\n",
        "\n",
        "    keluar = input(\"Cek bilangan lain? (Y/N): \").strip().lower()\n",
        "    if keluar == \"n\":\n",
        "        print(\"Terima kasih telah menggunakan program ini!\")\n",
        "        break\n"
      ]
    }
  ]
}