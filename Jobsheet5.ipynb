{
  "nbformat": 4,
  "nbformat_minor": 0,
  "metadata": {
    "colab": {
      "provenance": [],
      "authorship_tag": "ABX9TyNr0/mpdvw1JrBy8HmjzJbN",
      "include_colab_link": true
    },
    "kernelspec": {
      "name": "python3",
      "display_name": "Python 3"
    },
    "language_info": {
      "name": "python"
    }
  },
  "cells": [
    {
      "cell_type": "markdown",
      "metadata": {
        "id": "view-in-github",
        "colab_type": "text"
      },
      "source": [
        "<a href=\"https://colab.research.google.com/github/Baimiyk/2025_PBO_TI1C/blob/main/Jobsheet5.ipynb\" target=\"_parent\"><img src=\"https://colab.research.google.com/assets/colab-badge.svg\" alt=\"Open In Colab\"/></a>"
      ]
    },
    {
      "cell_type": "markdown",
      "source": [
        "# Praktikum 01"
      ],
      "metadata": {
        "id": "6zyTNv9UaaI_"
      }
    },
    {
      "cell_type": "code",
      "execution_count": null,
      "metadata": {
        "id": "qUmwkGUcaYmo"
      },
      "outputs": [],
      "source": []
    },
    {
      "cell_type": "markdown",
      "source": [
        "# Praktikum 02"
      ],
      "metadata": {
        "id": "xo9t-Y3RbAp2"
      }
    },
    {
      "cell_type": "code",
      "source": [],
      "metadata": {
        "id": "h25co2ZwbFsu"
      },
      "execution_count": null,
      "outputs": []
    },
    {
      "cell_type": "markdown",
      "source": [
        "# Praktikum 03"
      ],
      "metadata": {
        "id": "RDssZl2xbF_7"
      }
    },
    {
      "cell_type": "code",
      "source": [],
      "metadata": {
        "id": "-n8o3jGsbMNf"
      },
      "execution_count": null,
      "outputs": []
    },
    {
      "cell_type": "markdown",
      "source": [
        "# Praktikum 04"
      ],
      "metadata": {
        "id": "rgvVPQS0bMi0"
      }
    },
    {
      "cell_type": "code",
      "source": [],
      "metadata": {
        "id": "fNDxdva6bQ-e"
      },
      "execution_count": null,
      "outputs": []
    },
    {
      "cell_type": "markdown",
      "source": [
        "# Praktikum 05"
      ],
      "metadata": {
        "id": "j7KiiL26bRpx"
      }
    },
    {
      "cell_type": "code",
      "source": [],
      "metadata": {
        "id": "VYzB4qyXbVpq"
      },
      "execution_count": null,
      "outputs": []
    },
    {
      "cell_type": "markdown",
      "source": [
        "# Praktikum 06"
      ],
      "metadata": {
        "id": "_tHs0mdFbWZb"
      }
    },
    {
      "cell_type": "code",
      "source": [],
      "metadata": {
        "id": "sp-4ERnvbdZe"
      },
      "execution_count": null,
      "outputs": []
    }
  ]
}